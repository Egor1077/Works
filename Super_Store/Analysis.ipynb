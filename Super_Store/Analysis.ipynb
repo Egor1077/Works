{
 "cells": [
  {
   "cell_type": "code",
   "execution_count": 53,
   "id": "6ca8ac00",
   "metadata": {},
   "outputs": [],
   "source": [
    "import pandas as pd\n",
    "import numpy as np\n",
    "import matplotlib.pyplot as plt\n",
    "import seaborn as sns\n",
    "import plotly.express as px"
   ]
  },
  {
   "cell_type": "markdown",
   "id": "d35525f6",
   "metadata": {},
   "source": [
    "ETL"
   ]
  },
  {
   "cell_type": "code",
   "execution_count": 54,
   "id": "938d2708",
   "metadata": {},
   "outputs": [],
   "source": [
    "# 1. Extract: Загрузка данных\n",
    "df = pd.read_csv('data/Superstore.csv', encoding='ISO-8859-1')"
   ]
  },
  {
   "cell_type": "code",
   "execution_count": 55,
   "id": "568824a1",
   "metadata": {},
   "outputs": [
    {
     "data": {
      "text/html": [
       "<div>\n",
       "<style scoped>\n",
       "    .dataframe tbody tr th:only-of-type {\n",
       "        vertical-align: middle;\n",
       "    }\n",
       "\n",
       "    .dataframe tbody tr th {\n",
       "        vertical-align: top;\n",
       "    }\n",
       "\n",
       "    .dataframe thead th {\n",
       "        text-align: right;\n",
       "    }\n",
       "</style>\n",
       "<table border=\"1\" class=\"dataframe\">\n",
       "  <thead>\n",
       "    <tr style=\"text-align: right;\">\n",
       "      <th></th>\n",
       "      <th>Row ID</th>\n",
       "      <th>Order ID</th>\n",
       "      <th>Order Date</th>\n",
       "      <th>Ship Date</th>\n",
       "      <th>Ship Mode</th>\n",
       "      <th>Customer ID</th>\n",
       "      <th>Customer Name</th>\n",
       "      <th>Segment</th>\n",
       "      <th>Country</th>\n",
       "      <th>City</th>\n",
       "      <th>...</th>\n",
       "      <th>Postal Code</th>\n",
       "      <th>Region</th>\n",
       "      <th>Product ID</th>\n",
       "      <th>Category</th>\n",
       "      <th>Sub-Category</th>\n",
       "      <th>Product Name</th>\n",
       "      <th>Sales</th>\n",
       "      <th>Quantity</th>\n",
       "      <th>Discount</th>\n",
       "      <th>Profit</th>\n",
       "    </tr>\n",
       "  </thead>\n",
       "  <tbody>\n",
       "    <tr>\n",
       "      <th>0</th>\n",
       "      <td>1</td>\n",
       "      <td>CA-2013-152156</td>\n",
       "      <td>09-11-2013</td>\n",
       "      <td>12-11-2013</td>\n",
       "      <td>Second Class</td>\n",
       "      <td>CG-12520</td>\n",
       "      <td>Claire Gute</td>\n",
       "      <td>Consumer</td>\n",
       "      <td>United States</td>\n",
       "      <td>Henderson</td>\n",
       "      <td>...</td>\n",
       "      <td>42420</td>\n",
       "      <td>South</td>\n",
       "      <td>FUR-BO-10001798</td>\n",
       "      <td>Furniture</td>\n",
       "      <td>Bookcases</td>\n",
       "      <td>Bush Somerset Collection Bookcase</td>\n",
       "      <td>261.9600</td>\n",
       "      <td>2</td>\n",
       "      <td>0.00</td>\n",
       "      <td>41.9136</td>\n",
       "    </tr>\n",
       "    <tr>\n",
       "      <th>1</th>\n",
       "      <td>2</td>\n",
       "      <td>CA-2013-152156</td>\n",
       "      <td>09-11-2013</td>\n",
       "      <td>12-11-2013</td>\n",
       "      <td>Second Class</td>\n",
       "      <td>CG-12520</td>\n",
       "      <td>Claire Gute</td>\n",
       "      <td>Consumer</td>\n",
       "      <td>United States</td>\n",
       "      <td>Henderson</td>\n",
       "      <td>...</td>\n",
       "      <td>42420</td>\n",
       "      <td>South</td>\n",
       "      <td>FUR-CH-10000454</td>\n",
       "      <td>Furniture</td>\n",
       "      <td>Chairs</td>\n",
       "      <td>Hon Deluxe Fabric Upholstered Stacking Chairs,...</td>\n",
       "      <td>731.9400</td>\n",
       "      <td>3</td>\n",
       "      <td>0.00</td>\n",
       "      <td>219.5820</td>\n",
       "    </tr>\n",
       "    <tr>\n",
       "      <th>2</th>\n",
       "      <td>3</td>\n",
       "      <td>CA-2013-138688</td>\n",
       "      <td>13-06-2013</td>\n",
       "      <td>17-06-2013</td>\n",
       "      <td>Second Class</td>\n",
       "      <td>DV-13045</td>\n",
       "      <td>Darrin Van Huff</td>\n",
       "      <td>Corporate</td>\n",
       "      <td>United States</td>\n",
       "      <td>Los Angeles</td>\n",
       "      <td>...</td>\n",
       "      <td>90036</td>\n",
       "      <td>West</td>\n",
       "      <td>OFF-LA-10000240</td>\n",
       "      <td>Office Supplies</td>\n",
       "      <td>Labels</td>\n",
       "      <td>Self-Adhesive Address Labels for Typewriters b...</td>\n",
       "      <td>14.6200</td>\n",
       "      <td>2</td>\n",
       "      <td>0.00</td>\n",
       "      <td>6.8714</td>\n",
       "    </tr>\n",
       "    <tr>\n",
       "      <th>3</th>\n",
       "      <td>4</td>\n",
       "      <td>US-2012-108966</td>\n",
       "      <td>11-10-2012</td>\n",
       "      <td>18-10-2012</td>\n",
       "      <td>Standard Class</td>\n",
       "      <td>SO-20335</td>\n",
       "      <td>Sean O'Donnell</td>\n",
       "      <td>Consumer</td>\n",
       "      <td>United States</td>\n",
       "      <td>Fort Lauderdale</td>\n",
       "      <td>...</td>\n",
       "      <td>33311</td>\n",
       "      <td>South</td>\n",
       "      <td>FUR-TA-10000577</td>\n",
       "      <td>Furniture</td>\n",
       "      <td>Tables</td>\n",
       "      <td>Bretford CR4500 Series Slim Rectangular Table</td>\n",
       "      <td>957.5775</td>\n",
       "      <td>5</td>\n",
       "      <td>0.45</td>\n",
       "      <td>-383.0310</td>\n",
       "    </tr>\n",
       "    <tr>\n",
       "      <th>4</th>\n",
       "      <td>5</td>\n",
       "      <td>US-2012-108966</td>\n",
       "      <td>11-10-2012</td>\n",
       "      <td>18-10-2012</td>\n",
       "      <td>Standard Class</td>\n",
       "      <td>SO-20335</td>\n",
       "      <td>Sean O'Donnell</td>\n",
       "      <td>Consumer</td>\n",
       "      <td>United States</td>\n",
       "      <td>Fort Lauderdale</td>\n",
       "      <td>...</td>\n",
       "      <td>33311</td>\n",
       "      <td>South</td>\n",
       "      <td>OFF-ST-10000760</td>\n",
       "      <td>Office Supplies</td>\n",
       "      <td>Storage</td>\n",
       "      <td>Eldon Fold 'N Roll Cart System</td>\n",
       "      <td>22.3680</td>\n",
       "      <td>2</td>\n",
       "      <td>0.20</td>\n",
       "      <td>2.5164</td>\n",
       "    </tr>\n",
       "  </tbody>\n",
       "</table>\n",
       "<p>5 rows × 21 columns</p>\n",
       "</div>"
      ],
      "text/plain": [
       "   Row ID        Order ID  Order Date   Ship Date       Ship Mode Customer ID  \\\n",
       "0       1  CA-2013-152156  09-11-2013  12-11-2013    Second Class    CG-12520   \n",
       "1       2  CA-2013-152156  09-11-2013  12-11-2013    Second Class    CG-12520   \n",
       "2       3  CA-2013-138688  13-06-2013  17-06-2013    Second Class    DV-13045   \n",
       "3       4  US-2012-108966  11-10-2012  18-10-2012  Standard Class    SO-20335   \n",
       "4       5  US-2012-108966  11-10-2012  18-10-2012  Standard Class    SO-20335   \n",
       "\n",
       "     Customer Name    Segment        Country             City  ...  \\\n",
       "0      Claire Gute   Consumer  United States        Henderson  ...   \n",
       "1      Claire Gute   Consumer  United States        Henderson  ...   \n",
       "2  Darrin Van Huff  Corporate  United States      Los Angeles  ...   \n",
       "3   Sean O'Donnell   Consumer  United States  Fort Lauderdale  ...   \n",
       "4   Sean O'Donnell   Consumer  United States  Fort Lauderdale  ...   \n",
       "\n",
       "  Postal Code  Region       Product ID         Category Sub-Category  \\\n",
       "0       42420   South  FUR-BO-10001798        Furniture    Bookcases   \n",
       "1       42420   South  FUR-CH-10000454        Furniture       Chairs   \n",
       "2       90036    West  OFF-LA-10000240  Office Supplies       Labels   \n",
       "3       33311   South  FUR-TA-10000577        Furniture       Tables   \n",
       "4       33311   South  OFF-ST-10000760  Office Supplies      Storage   \n",
       "\n",
       "                                        Product Name     Sales  Quantity  \\\n",
       "0                  Bush Somerset Collection Bookcase  261.9600         2   \n",
       "1  Hon Deluxe Fabric Upholstered Stacking Chairs,...  731.9400         3   \n",
       "2  Self-Adhesive Address Labels for Typewriters b...   14.6200         2   \n",
       "3      Bretford CR4500 Series Slim Rectangular Table  957.5775         5   \n",
       "4                     Eldon Fold 'N Roll Cart System   22.3680         2   \n",
       "\n",
       "   Discount    Profit  \n",
       "0      0.00   41.9136  \n",
       "1      0.00  219.5820  \n",
       "2      0.00    6.8714  \n",
       "3      0.45 -383.0310  \n",
       "4      0.20    2.5164  \n",
       "\n",
       "[5 rows x 21 columns]"
      ]
     },
     "execution_count": 55,
     "metadata": {},
     "output_type": "execute_result"
    }
   ],
   "source": [
    "df.head()"
   ]
  },
  {
   "cell_type": "code",
   "execution_count": 56,
   "id": "3decb3ff",
   "metadata": {},
   "outputs": [
    {
     "data": {
      "text/plain": [
       "Index(['Row ID', 'Order ID', 'Order Date', 'Ship Date', 'Ship Mode',\n",
       "       'Customer ID', 'Customer Name', 'Segment', 'Country', 'City', 'State',\n",
       "       'Postal Code', 'Region', 'Product ID', 'Category', 'Sub-Category',\n",
       "       'Product Name', 'Sales', 'Quantity', 'Discount', 'Profit'],\n",
       "      dtype='object')"
      ]
     },
     "execution_count": 56,
     "metadata": {},
     "output_type": "execute_result"
    }
   ],
   "source": [
    "df.columns"
   ]
  },
  {
   "cell_type": "code",
   "execution_count": 57,
   "id": "c3a29735",
   "metadata": {},
   "outputs": [],
   "source": [
    "# 2. Transform: Очистка и обработка\n",
    "# Проверка дубликатов\n",
    "df.drop_duplicates(inplace=True)"
   ]
  },
  {
   "cell_type": "code",
   "execution_count": 58,
   "id": "5f6feb22",
   "metadata": {},
   "outputs": [
    {
     "data": {
      "text/plain": [
       "Row ID           0\n",
       "Order ID         0\n",
       "Order Date       0\n",
       "Ship Date        0\n",
       "Ship Mode        0\n",
       "Customer ID      0\n",
       "Customer Name    0\n",
       "Segment          0\n",
       "Country          0\n",
       "City             0\n",
       "State            0\n",
       "Postal Code      0\n",
       "Region           0\n",
       "Product ID       0\n",
       "Category         0\n",
       "Sub-Category     0\n",
       "Product Name     0\n",
       "Sales            0\n",
       "Quantity         0\n",
       "Discount         0\n",
       "Profit           0\n",
       "dtype: int64"
      ]
     },
     "execution_count": 58,
     "metadata": {},
     "output_type": "execute_result"
    }
   ],
   "source": [
    "df.isnull().sum()"
   ]
  },
  {
   "cell_type": "code",
   "execution_count": 59,
   "id": "82cf93fe",
   "metadata": {},
   "outputs": [],
   "source": [
    "# Проверка пропусков и их обработка\n",
    "df.fillna({'Discount': 0, 'Profit': 0}, inplace=True)  # Заполняем пропуски в числовых колонках"
   ]
  },
  {
   "cell_type": "code",
   "execution_count": 60,
   "id": "072b52bb",
   "metadata": {},
   "outputs": [],
   "source": [
    "# Преобразование типов данных\n",
    "df['Order Date'] = pd.to_datetime(df['Order Date'], dayfirst=True)\n",
    "df['Ship Date'] = pd.to_datetime(df['Ship Date'], dayfirst=True)\n",
    "df['Sales'] = df['Sales'].astype(float)\n",
    "df['Profit'] = df['Profit'].astype(float)"
   ]
  },
  {
   "cell_type": "code",
   "execution_count": 61,
   "id": "ebee75f4",
   "metadata": {},
   "outputs": [
    {
     "name": "stdout",
     "output_type": "stream",
     "text": [
      "До фильтрации: 9994 строк\n",
      "После фильтрации: 9645 строк\n"
     ]
    }
   ],
   "source": [
    "# Фильтруем нереальные выбросы\n",
    "df_cleaned = df[(df[\"Quantity\"] <= 1000) & (df[\"Profit\"] >= -df[\"Sales\"])]\n",
    "\n",
    "# Проверяем размеры до и после\n",
    "print(f\"До фильтрации: {df.shape[0]} строк\")\n",
    "print(f\"После фильтрации: {df_cleaned.shape[0]} строк\")\n",
    "df = df_cleaned"
   ]
  },
  {
   "cell_type": "code",
   "execution_count": 62,
   "id": "8776ed32",
   "metadata": {},
   "outputs": [],
   "source": [
    "# 3. Load: Сохранение обработанных данных\n",
    "df_cleaned.to_csv('data/Superstore_Cleaned.csv', index=False)"
   ]
  },
  {
   "cell_type": "code",
   "execution_count": 80,
   "id": "de5760e3",
   "metadata": {},
   "outputs": [
    {
     "data": {
      "text/html": [
       "<div>\n",
       "<style scoped>\n",
       "    .dataframe tbody tr th:only-of-type {\n",
       "        vertical-align: middle;\n",
       "    }\n",
       "\n",
       "    .dataframe tbody tr th {\n",
       "        vertical-align: top;\n",
       "    }\n",
       "\n",
       "    .dataframe thead th {\n",
       "        text-align: right;\n",
       "    }\n",
       "</style>\n",
       "<table border=\"1\" class=\"dataframe\">\n",
       "  <thead>\n",
       "    <tr style=\"text-align: right;\">\n",
       "      <th></th>\n",
       "      <th>Row ID</th>\n",
       "      <th>Order ID</th>\n",
       "      <th>Order Date</th>\n",
       "      <th>Ship Date</th>\n",
       "      <th>Ship Mode</th>\n",
       "      <th>Customer ID</th>\n",
       "      <th>Customer Name</th>\n",
       "      <th>Segment</th>\n",
       "      <th>Country</th>\n",
       "      <th>City</th>\n",
       "      <th>...</th>\n",
       "      <th>Postal Code</th>\n",
       "      <th>Region</th>\n",
       "      <th>Product ID</th>\n",
       "      <th>Category</th>\n",
       "      <th>Sub-Category</th>\n",
       "      <th>Product Name</th>\n",
       "      <th>Sales</th>\n",
       "      <th>Quantity</th>\n",
       "      <th>Discount</th>\n",
       "      <th>Profit</th>\n",
       "    </tr>\n",
       "  </thead>\n",
       "  <tbody>\n",
       "    <tr>\n",
       "      <th>0</th>\n",
       "      <td>1</td>\n",
       "      <td>CA-2013-152156</td>\n",
       "      <td>2013-11-09</td>\n",
       "      <td>2013-11-12</td>\n",
       "      <td>Second Class</td>\n",
       "      <td>CG-12520</td>\n",
       "      <td>Claire Gute</td>\n",
       "      <td>Consumer</td>\n",
       "      <td>United States</td>\n",
       "      <td>Henderson</td>\n",
       "      <td>...</td>\n",
       "      <td>42420</td>\n",
       "      <td>South</td>\n",
       "      <td>FUR-BO-10001798</td>\n",
       "      <td>Furniture</td>\n",
       "      <td>Bookcases</td>\n",
       "      <td>Bush Somerset Collection Bookcase</td>\n",
       "      <td>261.9600</td>\n",
       "      <td>2</td>\n",
       "      <td>0.00</td>\n",
       "      <td>41.9136</td>\n",
       "    </tr>\n",
       "    <tr>\n",
       "      <th>1</th>\n",
       "      <td>2</td>\n",
       "      <td>CA-2013-152156</td>\n",
       "      <td>2013-11-09</td>\n",
       "      <td>2013-11-12</td>\n",
       "      <td>Second Class</td>\n",
       "      <td>CG-12520</td>\n",
       "      <td>Claire Gute</td>\n",
       "      <td>Consumer</td>\n",
       "      <td>United States</td>\n",
       "      <td>Henderson</td>\n",
       "      <td>...</td>\n",
       "      <td>42420</td>\n",
       "      <td>South</td>\n",
       "      <td>FUR-CH-10000454</td>\n",
       "      <td>Furniture</td>\n",
       "      <td>Chairs</td>\n",
       "      <td>Hon Deluxe Fabric Upholstered Stacking Chairs,...</td>\n",
       "      <td>731.9400</td>\n",
       "      <td>3</td>\n",
       "      <td>0.00</td>\n",
       "      <td>219.5820</td>\n",
       "    </tr>\n",
       "    <tr>\n",
       "      <th>2</th>\n",
       "      <td>3</td>\n",
       "      <td>CA-2013-138688</td>\n",
       "      <td>2013-06-13</td>\n",
       "      <td>2013-06-17</td>\n",
       "      <td>Second Class</td>\n",
       "      <td>DV-13045</td>\n",
       "      <td>Darrin Van Huff</td>\n",
       "      <td>Corporate</td>\n",
       "      <td>United States</td>\n",
       "      <td>Los Angeles</td>\n",
       "      <td>...</td>\n",
       "      <td>90036</td>\n",
       "      <td>West</td>\n",
       "      <td>OFF-LA-10000240</td>\n",
       "      <td>Office Supplies</td>\n",
       "      <td>Labels</td>\n",
       "      <td>Self-Adhesive Address Labels for Typewriters b...</td>\n",
       "      <td>14.6200</td>\n",
       "      <td>2</td>\n",
       "      <td>0.00</td>\n",
       "      <td>6.8714</td>\n",
       "    </tr>\n",
       "    <tr>\n",
       "      <th>3</th>\n",
       "      <td>4</td>\n",
       "      <td>US-2012-108966</td>\n",
       "      <td>2012-10-11</td>\n",
       "      <td>2012-10-18</td>\n",
       "      <td>Standard Class</td>\n",
       "      <td>SO-20335</td>\n",
       "      <td>Sean O'Donnell</td>\n",
       "      <td>Consumer</td>\n",
       "      <td>United States</td>\n",
       "      <td>Fort Lauderdale</td>\n",
       "      <td>...</td>\n",
       "      <td>33311</td>\n",
       "      <td>South</td>\n",
       "      <td>FUR-TA-10000577</td>\n",
       "      <td>Furniture</td>\n",
       "      <td>Tables</td>\n",
       "      <td>Bretford CR4500 Series Slim Rectangular Table</td>\n",
       "      <td>957.5775</td>\n",
       "      <td>5</td>\n",
       "      <td>0.45</td>\n",
       "      <td>-383.0310</td>\n",
       "    </tr>\n",
       "    <tr>\n",
       "      <th>4</th>\n",
       "      <td>5</td>\n",
       "      <td>US-2012-108966</td>\n",
       "      <td>2012-10-11</td>\n",
       "      <td>2012-10-18</td>\n",
       "      <td>Standard Class</td>\n",
       "      <td>SO-20335</td>\n",
       "      <td>Sean O'Donnell</td>\n",
       "      <td>Consumer</td>\n",
       "      <td>United States</td>\n",
       "      <td>Fort Lauderdale</td>\n",
       "      <td>...</td>\n",
       "      <td>33311</td>\n",
       "      <td>South</td>\n",
       "      <td>OFF-ST-10000760</td>\n",
       "      <td>Office Supplies</td>\n",
       "      <td>Storage</td>\n",
       "      <td>Eldon Fold 'N Roll Cart System</td>\n",
       "      <td>22.3680</td>\n",
       "      <td>2</td>\n",
       "      <td>0.20</td>\n",
       "      <td>2.5164</td>\n",
       "    </tr>\n",
       "  </tbody>\n",
       "</table>\n",
       "<p>5 rows × 21 columns</p>\n",
       "</div>"
      ],
      "text/plain": [
       "   Row ID        Order ID Order Date  Ship Date       Ship Mode Customer ID  \\\n",
       "0       1  CA-2013-152156 2013-11-09 2013-11-12    Second Class    CG-12520   \n",
       "1       2  CA-2013-152156 2013-11-09 2013-11-12    Second Class    CG-12520   \n",
       "2       3  CA-2013-138688 2013-06-13 2013-06-17    Second Class    DV-13045   \n",
       "3       4  US-2012-108966 2012-10-11 2012-10-18  Standard Class    SO-20335   \n",
       "4       5  US-2012-108966 2012-10-11 2012-10-18  Standard Class    SO-20335   \n",
       "\n",
       "     Customer Name    Segment        Country             City  ...  \\\n",
       "0      Claire Gute   Consumer  United States        Henderson  ...   \n",
       "1      Claire Gute   Consumer  United States        Henderson  ...   \n",
       "2  Darrin Van Huff  Corporate  United States      Los Angeles  ...   \n",
       "3   Sean O'Donnell   Consumer  United States  Fort Lauderdale  ...   \n",
       "4   Sean O'Donnell   Consumer  United States  Fort Lauderdale  ...   \n",
       "\n",
       "  Postal Code  Region       Product ID         Category Sub-Category  \\\n",
       "0       42420   South  FUR-BO-10001798        Furniture    Bookcases   \n",
       "1       42420   South  FUR-CH-10000454        Furniture       Chairs   \n",
       "2       90036    West  OFF-LA-10000240  Office Supplies       Labels   \n",
       "3       33311   South  FUR-TA-10000577        Furniture       Tables   \n",
       "4       33311   South  OFF-ST-10000760  Office Supplies      Storage   \n",
       "\n",
       "                                        Product Name     Sales  Quantity  \\\n",
       "0                  Bush Somerset Collection Bookcase  261.9600         2   \n",
       "1  Hon Deluxe Fabric Upholstered Stacking Chairs,...  731.9400         3   \n",
       "2  Self-Adhesive Address Labels for Typewriters b...   14.6200         2   \n",
       "3      Bretford CR4500 Series Slim Rectangular Table  957.5775         5   \n",
       "4                     Eldon Fold 'N Roll Cart System   22.3680         2   \n",
       "\n",
       "   Discount    Profit  \n",
       "0      0.00   41.9136  \n",
       "1      0.00  219.5820  \n",
       "2      0.00    6.8714  \n",
       "3      0.45 -383.0310  \n",
       "4      0.20    2.5164  \n",
       "\n",
       "[5 rows x 21 columns]"
      ]
     },
     "execution_count": 80,
     "metadata": {},
     "output_type": "execute_result"
    }
   ],
   "source": [
    "df.head()"
   ]
  },
  {
   "cell_type": "markdown",
   "id": "9fbfdd41",
   "metadata": {},
   "source": [
    "EDA"
   ]
  },
  {
   "cell_type": "code",
   "execution_count": 64,
   "id": "39dddea9",
   "metadata": {},
   "outputs": [
    {
     "name": "stdout",
     "output_type": "stream",
     "text": [
      "<class 'pandas.core.frame.DataFrame'>\n",
      "Index: 9645 entries, 0 to 9993\n",
      "Data columns (total 21 columns):\n",
      " #   Column         Non-Null Count  Dtype         \n",
      "---  ------         --------------  -----         \n",
      " 0   Row ID         9645 non-null   int64         \n",
      " 1   Order ID       9645 non-null   object        \n",
      " 2   Order Date     9645 non-null   datetime64[ns]\n",
      " 3   Ship Date      9645 non-null   datetime64[ns]\n",
      " 4   Ship Mode      9645 non-null   object        \n",
      " 5   Customer ID    9645 non-null   object        \n",
      " 6   Customer Name  9645 non-null   object        \n",
      " 7   Segment        9645 non-null   object        \n",
      " 8   Country        9645 non-null   object        \n",
      " 9   City           9645 non-null   object        \n",
      " 10  State          9645 non-null   object        \n",
      " 11  Postal Code    9645 non-null   int64         \n",
      " 12  Region         9645 non-null   object        \n",
      " 13  Product ID     9645 non-null   object        \n",
      " 14  Category       9645 non-null   object        \n",
      " 15  Sub-Category   9645 non-null   object        \n",
      " 16  Product Name   9645 non-null   object        \n",
      " 17  Sales          9645 non-null   float64       \n",
      " 18  Quantity       9645 non-null   int64         \n",
      " 19  Discount       9645 non-null   float64       \n",
      " 20  Profit         9645 non-null   float64       \n",
      "dtypes: datetime64[ns](2), float64(3), int64(3), object(13)\n",
      "memory usage: 1.6+ MB\n",
      "None\n"
     ]
    }
   ],
   "source": [
    "# 1. Основная информация о данных\n",
    "print(df.info())"
   ]
  },
  {
   "cell_type": "code",
   "execution_count": 65,
   "id": "b39a443d",
   "metadata": {},
   "outputs": [
    {
     "name": "stdout",
     "output_type": "stream",
     "text": [
      "Sales       234.66\n",
      "Profit       35.33\n",
      "Discount      0.13\n",
      "dtype: float64\n"
     ]
    }
   ],
   "source": [
    "# Средние значения\n",
    "print(round(df[[\"Sales\", \"Profit\", \"Discount\"]].mean(), 2))"
   ]
  },
  {
   "cell_type": "code",
   "execution_count": 67,
   "id": "7ca1c9fa",
   "metadata": {},
   "outputs": [
    {
     "name": "stderr",
     "output_type": "stream",
     "text": [
      "C:\\Users\\User\\AppData\\Local\\Temp\\ipykernel_8808\\3444479545.py:6: FutureWarning:\n",
      "\n",
      "\n",
      "\n",
      "Passing `palette` without assigning `hue` is deprecated and will be removed in v0.14.0. Assign the `y` variable to `hue` and set `legend=False` for the same effect.\n",
      "\n",
      "\n"
     ]
    },
    {
     "data": {
      "image/png": "[encoded data removed]",
      "text/plain": [
       "<Figure size 1000x500 with 1 Axes>"
      ]
     },
     "metadata": {},
     "output_type": "display_data"
    }
   ],
   "source": [
    "# Топ-10 товаров по продажам\n",
    "top_products = df.groupby(\"Product Name\")[\"Sales\"].sum().sort_values(ascending=False).head(10)\n",
    "\n",
    "# Визуализация\n",
    "plt.figure(figsize=(10, 5))\n",
    "sns.barplot(x=top_products.values, y=top_products.index, palette=\"Blues_r\")\n",
    "plt.title(\"Top 10 Products by Sales\")\n",
    "plt.xlabel(\"Sales Amount\")\n",
    "plt.show()"
   ]
  },
  {
   "cell_type": "code",
   "execution_count": 81,
   "id": "4fb23efb",
   "metadata": {},
   "outputs": [
    {
     "data": {
      "image/png": "[encoded data removed]",
      "text/plain": [
       "<Figure size 1000x500 with 1 Axes>"
      ]
     },
     "metadata": {},
     "output_type": "display_data"
    }
   ],
   "source": [
    "# 3. Топ самых продаваемых категорий\n",
    "plt.figure(figsize=(10, 5))\n",
    "sns.barplot(x=df['Category'].value_counts().index, y=df['Category'].value_counts().values)\n",
    "plt.title('Sales frequency by category')\n",
    "plt.show()"
   ]
  },
  {
   "cell_type": "code",
   "execution_count": 82,
   "id": "5d5b3d9e",
   "metadata": {},
   "outputs": [
    {
     "data": {
      "image/png": "[encoded data removed]",
      "text/plain": [
       "<Figure size 800x600 with 2 Axes>"
      ]
     },
     "metadata": {},
     "output_type": "display_data"
    }
   ],
   "source": [
    "# 4. Тепловая карта корреляций\n",
    "df_numeric = df.select_dtypes(include=[np.number]).drop(['Row ID', 'Postal Code'], axis=1)\n",
    "plt.figure(figsize=(8, 6))\n",
    "sns.heatmap(df_numeric.corr(), annot=True, cmap='coolwarm', fmt='.2f')\n",
    "plt.title('Correlation between numerical variables')\n",
    "plt.show()"
   ]
  },
  {
   "cell_type": "code",
   "execution_count": 70,
   "id": "953e3edc",
   "metadata": {},
   "outputs": [
    {
     "data": {
      "application/vnd.plotly.v1+json": {
       "config": {
        "plotlyServerURL": "https://plot.ly"
       },
       "data": [
        {
         "hovertemplate": "Order Date=%{x}<br>Sales=%{y}<extra></extra>",
         "legendgroup": "",
         "line": {
          "color": "#636efa",
          "dash": "solid"
         },
         "marker": {
          "symbol": "circle"
         },
         "mode": "lines",
         "name": "",
         "showlegend": false,
         "type": "scattergl",
         "x": [
          "2011-01-04T00:00:00.000000000",
          "2011-01-05T00:00:00.000000000",
          "2011-01-06T00:00:00.000000000",
          "2011-01-07T00:00:00.000000000",
          "2011-01-08T00:00:00.000000000",
          "2011-01-10T00:00:00.000000000",
          "2011-01-11T00:00:00.000000000",
          "2011-01-12T00:00:00.000000000",
          "2011-01-14T00:00:00.000000000",
          "2011-01-15T00:00:00.000000000",
          "2011-01-16T00:00:00.000000000",
          "2011-01-17T00:00:00.000000000",
          "2011-01-19T00:00:00.000000000",
          "2011-01-20T00:00:00.000000000",
          "2011-01-21T00:00:00.000000000",
          "2011-01-22T00:00:00.000000000",
          "2011-01-24T00:00:00.000000000",
          "2011-01-27T00:00:00.000000000",
          "2011-01-28T00:00:00.000000000",
          "2011-01-29T00:00:00.000000000",
          "2011-01-31T00:00:00.000000000",
          "2011-02-01T00:00:00.000000000",
          "2011-02-02T00:00:00.000000000",
          "2011-02-03T00:00:00.000000000",
          "2011-02-04T00:00:00.000000000",
          "2011-02-05T00:00:00.000000000",
          "2011-02-07T00:00:00.000000000",
          "2011-02-08T00:00:00.000000000",
          "2011-02-09T00:00:00.000000000",
          "2011-02-12T00:00:00.000000000",
          "2011-02-13T00:00:00.000000000",
          "2011-02-15T00:00:00.000000000",
          "2011-02-16T00:00:00.000000000",
          "2011-02-18T00:00:00.000000000",
          "2011-02-19T00:00:00.000000000",
          "2011-02-21T00:00:00.000000000",
          "2011-02-23T00:00:00.000000000",
          "2011-02-24T00:00:00.000000000",
          "2011-02-25T00:00:00.000000000",
          "2011-02-28T00:00:00.000000000",
          "2011-03-01T00:00:00.000000000",
          "2011-03-02T00:00:00.000000000",
          "2011-03-03T00:00:00.000000000",
          "2011-03-04T00:00:00.000000000",
          "2011-03-05T00:00:00.000000000",
          "2011-03-07T00:00:00.000000000",
          "2011-03-10T00:00:00.000000000",
          "2011-03-11T00:00:00.000000000",
          "2011-03-14T00:00:00.000000000",
          "2011-03-15T00:00:00.000000000",
          "2011-03-16T00:00:00.000000000",
          "2011-03-17T00:00:00.000000000",
          "2011-03-18T00:00:00.000000000",
          "2011-03-19T00:00:00.000000000",
          "2011-03-21T00:00:00.000000000",
          "2011-03-22T00:00:00.000000000",
          "2011-03-23T00:00:00.000000000",
          "2011-03-24T00:00:00.000000000",
          "2011-03-25T00:00:00.000000000",
          "2011-03-26T00:00:00.000000000",
          "2011-03-28T00:00:00.000000000",
          "2011-03-29T00:00:00.000000000",
          "2011-03-30T00:00:00.000000000",
          "2011-03-31T00:00:00.000000000",
          "2011-04-01T00:00:00.000000000",
          "2011-04-02T00:00:00.000000000",
          "2011-04-03T00:00:00.000000000",
          "2011-04-04T00:00:00.000000000",
          "2011-04-05T00:00:00.000000000",
          "2011-04-06T00:00:00.000000000",
          "2011-04-07T00:00:00.000000000",
          "2011-04-08T00:00:00.000000000",
          "2011-04-11T00:00:00.000000000",
          "2011-04-12T00:00:00.000000000",
          "2011-04-13T00:00:00.000000000",
          "2011-04-15T00:00:00.000000000",
          "2011-04-16T00:00:00.000000000",
          "2011-04-18T00:00:00.000000000",
          "2011-04-19T00:00:00.000000000",
          "2011-04-20T00:00:00.000000000",
          "2011-04-21T00:00:00.000000000",
          "2011-04-22T00:00:00.000000000",
          "2011-04-23T00:00:00.000000000",
          "2011-04-25T00:00:00.000000000",
          "2011-04-26T00:00:00.000000000",
          "2011-04-28T00:00:00.000000000",
          "2011-04-29T00:00:00.000000000",
          "2011-04-30T00:00:00.000000000",
          "2011-05-02T00:00:00.000000000",
          "2011-05-03T00:00:00.000000000",
          "2011-05-04T00:00:00.000000000",
          "2011-05-05T00:00:00.000000000",
          "2011-05-06T00:00:00.000000000",
          "2011-05-07T00:00:00.000000000",
          "2011-05-08T00:00:00.000000000",
          "2011-05-09T00:00:00.000000000",
          "2011-05-10T00:00:00.000000000",
          "2011-05-11T00:00:00.000000000",
          "2011-05-12T00:00:00.000000000",
          "2011-05-13T00:00:00.000000000",
          "2011-05-14T00:00:00.000000000",
          "2011-05-16T00:00:00.000000000",
          "2011-05-17T00:00:00.000000000",
          "2011-05-18T00:00:00.000000000",
          "2011-05-19T00:00:00.000000000",
          "2011-05-20T00:00:00.000000000",
          "2011-05-21T00:00:00.000000000",
          "2011-05-22T00:00:00.000000000",
          "2011-05-23T00:00:00.000000000",
          "2011-05-24T00:00:00.000000000",
          "2011-05-25T00:00:00.000000000",
          "2011-05-26T00:00:00.000000000",
          "2011-05-27T00:00:00.000000000",
          "2011-05-28T00:00:00.000000000",
          "2011-05-30T00:00:00.000000000",
          "2011-05-31T00:00:00.000000000",
          "2011-06-01T00:00:00.000000000",
          "2011-06-02T00:00:00.000000000",
          "2011-06-03T00:00:00.000000000",
          "2011-06-04T00:00:00.000000000",
          "2011-06-06T00:00:00.000000000",
          "2011-06-07T00:00:00.000000000",
          "2011-06-08T00:00:00.000000000",
          "2011-06-09T00:00:00.000000000",
          "2011-06-10T00:00:00.000000000",
          "2011-06-13T00:00:00.000000000",
          "2011-06-14T00:00:00.000000000",
          "2011-06-15T00:00:00.000000000",
          "2011-06-16T00:00:00.000000000",
          "2011-06-17T00:00:00.000000000",
          "2011-06-18T00:00:00.000000000",
          "2011-06-20T00:00:00.000000000",
          "2011-06-21T00:00:00.000000000",
          "2011-06-22T00:00:00.000000000",
          "2011-06-23T00:00:00.000000000",
          "2011-06-24T00:00:00.000000000",
          "2011-06-25T00:00:00.000000000",
          "2011-06-27T00:00:00.000000000",
          "2011-06-28T00:00:00.000000000",
          "2011-06-29T00:00:00.000000000",
          "2011-06-30T00:00:00.000000000",
          "2011-07-01T00:00:00.000000000",
          "2011-07-02T00:00:00.000000000",
          "2011-07-04T00:00:00.000000000",
          "2011-07-05T00:00:00.000000000",
          "2011-07-06T00:00:00.000000000",
          "2011-07-07T00:00:00.000000000",
          "2011-07-08T00:00:00.000000000",
          "2011-07-09T00:00:00.000000000",
          "2011-07-11T00:00:00.000000000",
          "2011-07-12T00:00:00.000000000",
          "2011-07-13T00:00:00.000000000",
          "2011-07-14T00:00:00.000000000",
          "2011-07-15T00:00:00.000000000",
          "2011-07-18T00:00:00.000000000",
          "2011-07-19T00:00:00.000000000",
          "2011-07-20T00:00:00.000000000",
          "2011-07-21T00:00:00.000000000",
          "2011-07-22T00:00:00.000000000",
          "2011-07-23T00:00:00.000000000",
          "2011-07-25T00:00:00.000000000",
          "2011-07-26T00:00:00.000000000",
          "2011-07-27T00:00:00.000000000",
          "2011-07-28T00:00:00.000000000",
          "2011-07-30T00:00:00.000000000",
          "2011-08-01T00:00:00.000000000",
          "2011-08-02T00:00:00.000000000",
          "2011-08-03T00:00:00.000000000",
          "2011-08-04T00:00:00.000000000",
          "2011-08-05T00:00:00.000000000",
          "2011-08-06T00:00:00.000000000",
          "2011-08-08T00:00:00.000000000",
          "2011-08-09T00:00:00.000000000",
          "2011-08-11T00:00:00.000000000",
          "2011-08-12T00:00:00.000000000",
          "2011-08-15T00:00:00.000000000",
          "2011-08-16T00:00:00.000000000",
          "2011-08-17T00:00:00.000000000",
          "2011-08-19T00:00:00.000000000",
          "2011-08-20T00:00:00.000000000",
          "2011-08-22T00:00:00.000000000",
          "2011-08-23T00:00:00.000000000",
          "2011-08-24T00:00:00.000000000",
          "2011-08-25T00:00:00.000000000",
          "2011-08-26T00:00:00.000000000",
          "2011-08-27T00:00:00.000000000",
          "2011-08-29T00:00:00.000000000",
          "2011-08-30T00:00:00.000000000",
          "2011-08-31T00:00:00.000000000",
          "2011-09-01T00:00:00.000000000",
          "2011-09-02T00:00:00.000000000",
          "2011-09-03T00:00:00.000000000",
          "2011-09-05T00:00:00.000000000",
          "2011-09-06T00:00:00.000000000",
          "2011-09-07T00:00:00.000000000",
          "2011-09-08T00:00:00.000000000",
          "2011-09-09T00:00:00.000000000",
          "2011-09-10T00:00:00.000000000",
          "2011-09-11T00:00:00.000000000",
          "2011-09-12T00:00:00.000000000",
          "2011-09-13T00:00:00.000000000",
          "2011-09-14T00:00:00.000000000",
          "2011-09-15T00:00:00.000000000",
          "2011-09-16T00:00:00.000000000",
          "2011-09-17T00:00:00.000000000",
          "2011-09-19T00:00:00.000000000",
          "2011-09-20T00:00:00.000000000",
          "2011-09-21T00:00:00.000000000",
          "2011-09-22T00:00:00.000000000",
          "2011-09-23T00:00:00.000000000",
          "2011-09-24T00:00:00.000000000",
          "2011-09-25T00:00:00.000000000",
          "2011-09-26T00:00:00.000000000",
          "2011-09-27T00:00:00.000000000",
          "2011-09-28T00:00:00.000000000",
          "2011-09-29T00:00:00.000000000",
          "2011-09-30T00:00:00.000000000",
          "2011-10-01T00:00:00.000000000",
          "2011-10-02T00:00:00.000000000",
          "2011-10-03T00:00:00.000000000",
          "2011-10-04T00:00:00.000000000",
          "2011-10-05T00:00:00.000000000",
          "2011-10-06T00:00:00.000000000",
          "2011-10-07T00:00:00.000000000",
          "2011-10-08T00:00:00.000000000",
          "2011-10-09T00:00:00.000000000",
          "2011-10-10T00:00:00.000000000",
          "2011-10-11T00:00:00.000000000",
          "2011-10-12T00:00:00.000000000",
          "2011-10-13T00:00:00.000000000",
          "2011-10-14T00:00:00.000000000",
          "2011-10-15T00:00:00.000000000",
          "2011-10-16T00:00:00.000000000",
          "2011-10-17T00:00:00.000000000",
          "2011-10-18T00:00:00.000000000",
          "2011-10-19T00:00:00.000000000",
          "2011-10-20T00:00:00.000000000",
          "2011-10-21T00:00:00.000000000",
          "2011-10-22T00:00:00.000000000",
          "2011-10-24T00:00:00.000000000",
          "2011-10-25T00:00:00.000000000",
          "2011-10-26T00:00:00.000000000",
          "2011-10-27T00:00:00.000000000",
          "2011-10-28T00:00:00.000000000",
          "2011-10-29T00:00:00.000000000",
          "2011-10-31T00:00:00.000000000",
          "2011-11-01T00:00:00.000000000",
          "2011-11-02T00:00:00.000000000",
          "2011-11-03T00:00:00.000000000",
          "2011-11-04T00:00:00.000000000",
          "2011-11-05T00:00:00.000000000",
          "2011-11-06T00:00:00.000000000",
          "2011-11-07T00:00:00.000000000",
          "2011-11-08T00:00:00.000000000",
          "2011-11-09T00:00:00.000000000",
          "2011-11-10T00:00:00.000000000",
          "2011-11-11T00:00:00.000000000",
          "2011-11-12T00:00:00.000000000",
          "2011-11-14T00:00:00.000000000",
          "2011-11-15T00:00:00.000000000",
          "2011-11-16T00:00:00.000000000",
          "2011-11-17T00:00:00.000000000",
          "2011-11-18T00:00:00.000000000",
          "2011-11-19T00:00:00.000000000",
          "2011-11-20T00:00:00.000000000",
          "2011-11-21T00:00:00.000000000",
          "2011-11-22T00:00:00.000000000",
          "2011-11-23T00:00:00.000000000",
          "2011-11-24T00:00:00.000000000",
          "2011-11-25T00:00:00.000000000",
          "2011-11-26T00:00:00.000000000",
          "2011-11-27T00:00:00.000000000",
          "2011-11-28T00:00:00.000000000",
          "2011-11-29T00:00:00.000000000",
          "2011-11-30T00:00:00.000000000",
          "2011-12-01T00:00:00.000000000",
          "2011-12-02T00:00:00.000000000",
          "2011-12-03T00:00:00.000000000",
          "2011-12-04T00:00:00.000000000",
          "2011-12-05T00:00:00.000000000",
          "2011-12-06T00:00:00.000000000",
          "2011-12-07T00:00:00.000000000",
          "2011-12-08T00:00:00.000000000",
          "2011-12-09T00:00:00.000000000",
          "2011-12-10T00:00:00.000000000",
          "2011-12-12T00:00:00.000000000",
          "2011-12-13T00:00:00.000000000",
          "2011-12-14T00:00:00.000000000",
          "2011-12-15T00:00:00.000000000",
          "2011-12-16T00:00:00.000000000",
          "2011-12-17T00:00:00.000000000",
          "2011-12-19T00:00:00.000000000",
          "2011-12-20T00:00:00.000000000",
          "2011-12-21T00:00:00.000000000",
          "2011-12-22T00:00:00.000000000",
          "2011-12-23T00:00:00.000000000",
          "2011-12-24T00:00:00.000000000",
          "2011-12-26T00:00:00.000000000",
          "2011-12-27T00:00:00.000000000",
          "2011-12-28T00:00:00.000000000",
          "2011-12-29T00:00:00.000000000",
          "2011-12-30T00:00:00.000000000",
          "2011-12-31T00:00:00.000000000",
          "2012-01-02T00:00:00.000000000",
          "2012-01-03T00:00:00.000000000",
          "2012-01-04T00:00:00.000000000",
          "2012-01-05T00:00:00.000000000",
          "2012-01-06T00:00:00.000000000",
          "2012-01-09T00:00:00.000000000",
          "2012-01-10T00:00:00.000000000",
          "2012-01-12T00:00:00.000000000",
          "2012-01-13T00:00:00.000000000",
          "2012-01-17T00:00:00.000000000",
          "2012-01-19T00:00:00.000000000",
          "2012-01-23T00:00:00.000000000",
          "2012-01-24T00:00:00.000000000",
          "2012-01-26T00:00:00.000000000",
          "2012-01-27T00:00:00.000000000",
          "2012-01-28T00:00:00.000000000",
          "2012-01-30T00:00:00.000000000",
          "2012-01-31T00:00:00.000000000",
          "2012-02-03T00:00:00.000000000",
          "2012-02-06T00:00:00.000000000",
          "2012-02-07T00:00:00.000000000",
          "2012-02-08T00:00:00.000000000",
          "2012-02-09T00:00:00.000000000",
          "2012-02-10T00:00:00.000000000",
          "2012-02-14T00:00:00.000000000",
          "2012-02-15T00:00:00.000000000",
          "2012-02-16T00:00:00.000000000",
          "2012-02-18T00:00:00.000000000",
          "2012-02-20T00:00:00.000000000",
          "2012-02-21T00:00:00.000000000",
          "2012-02-22T00:00:00.000000000",
          "2012-02-23T00:00:00.000000000",
          "2012-02-25T00:00:00.000000000",
          "2012-02-27T00:00:00.000000000",
          "2012-02-28T00:00:00.000000000",
          "2012-02-29T00:00:00.000000000",
          "2012-03-01T00:00:00.000000000",
          "2012-03-02T00:00:00.000000000",
          "2012-03-05T00:00:00.000000000",
          "2012-03-06T00:00:00.000000000",
          "2012-03-07T00:00:00.000000000",
          "2012-03-08T00:00:00.000000000",
          "2012-03-09T00:00:00.000000000",
          "2012-03-10T00:00:00.000000000",
          "2012-03-12T00:00:00.000000000",
          "2012-03-13T00:00:00.000000000",
          "2012-03-14T00:00:00.000000000",
          "2012-03-15T00:00:00.000000000",
          "2012-03-16T00:00:00.000000000",
          "2012-03-17T00:00:00.000000000",
          "2012-03-19T00:00:00.000000000",
          "2012-03-20T00:00:00.000000000",
          "2012-03-21T00:00:00.000000000",
          "2012-03-22T00:00:00.000000000",
          "2012-03-23T00:00:00.000000000",
          "2012-03-24T00:00:00.000000000",
          "2012-03-26T00:00:00.000000000",
          "2012-03-27T00:00:00.000000000",
          "2012-03-28T00:00:00.000000000",
          "2012-03-29T00:00:00.000000000",
          "2012-03-30T00:00:00.000000000",
          "2012-03-31T00:00:00.000000000",
          "2012-04-02T00:00:00.000000000",
          "2012-04-04T00:00:00.000000000",
          "2012-04-05T00:00:00.000000000",
          "2012-04-06T00:00:00.000000000",
          "2012-04-07T00:00:00.000000000",
          "2012-04-09T00:00:00.000000000",
          "2012-04-10T00:00:00.000000000",
          "2012-04-11T00:00:00.000000000",
          "2012-04-12T00:00:00.000000000",
          "2012-04-13T00:00:00.000000000",
          "2012-04-14T00:00:00.000000000",
          "2012-04-16T00:00:00.000000000",
          "2012-04-17T00:00:00.000000000",
          "2012-04-18T00:00:00.000000000",
          "2012-04-20T00:00:00.000000000",
          "2012-04-21T00:00:00.000000000",
          "2012-04-22T00:00:00.000000000",
          "2012-04-24T00:00:00.000000000",
          "2012-04-25T00:00:00.000000000",
          "2012-04-26T00:00:00.000000000",
          "2012-04-27T00:00:00.000000000",
          "2012-04-28T00:00:00.000000000",
          "2012-04-29T00:00:00.000000000",
          "2012-04-30T00:00:00.000000000",
          "2012-05-01T00:00:00.000000000",
          "2012-05-02T00:00:00.000000000",
          "2012-05-03T00:00:00.000000000",
          "2012-05-04T00:00:00.000000000",
          "2012-05-07T00:00:00.000000000",
          "2012-05-08T00:00:00.000000000",
          "2012-05-09T00:00:00.000000000",
          "2012-05-10T00:00:00.000000000",
          "2012-05-11T00:00:00.000000000",
          "2012-05-12T00:00:00.000000000",
          "2012-05-13T00:00:00.000000000",
          "2012-05-14T00:00:00.000000000",
          "2012-05-15T00:00:00.000000000",
          "2012-05-16T00:00:00.000000000",
          "2012-05-17T00:00:00.000000000",
          "2012-05-18T00:00:00.000000000",
          "2012-05-20T00:00:00.000000000",
          "2012-05-21T00:00:00.000000000",
          "2012-05-22T00:00:00.000000000",
          "2012-05-23T00:00:00.000000000",
          "2012-05-24T00:00:00.000000000",
          "2012-05-25T00:00:00.000000000",
          "2012-05-26T00:00:00.000000000",
          "2012-05-28T00:00:00.000000000",
          "2012-05-29T00:00:00.000000000",
          "2012-05-30T00:00:00.000000000",
          "2012-05-31T00:00:00.000000000",
          "2012-06-01T00:00:00.000000000",
          "2012-06-04T00:00:00.000000000",
          "2012-06-05T00:00:00.000000000",
          "2012-06-07T00:00:00.000000000",
          "2012-06-08T00:00:00.000000000",
          "2012-06-09T00:00:00.000000000",
          "2012-06-11T00:00:00.000000000",
          "2012-06-12T00:00:00.000000000",
          "2012-06-13T00:00:00.000000000",
          "2012-06-14T00:00:00.000000000",
          "2012-06-15T00:00:00.000000000",
          "2012-06-16T00:00:00.000000000",
          "2012-06-18T00:00:00.000000000",
          "2012-06-19T00:00:00.000000000",
          "2012-06-20T00:00:00.000000000",
          "2012-06-21T00:00:00.000000000",
          "2012-06-22T00:00:00.000000000",
          "2012-06-23T00:00:00.000000000",
          "2012-06-25T00:00:00.000000000",
          "2012-06-26T00:00:00.000000000",
          "2012-06-28T00:00:00.000000000",
          "2012-06-29T00:00:00.000000000",
          "2012-07-02T00:00:00.000000000",
          "2012-07-03T00:00:00.000000000",
          "2012-07-04T00:00:00.000000000",
          "2012-07-05T00:00:00.000000000",
          "2012-07-06T00:00:00.000000000",
          "2012-07-08T00:00:00.000000000",
          "2012-07-09T00:00:00.000000000",
          "2012-07-10T00:00:00.000000000",
          "2012-07-11T00:00:00.000000000",
          "2012-07-12T00:00:00.000000000",
          "2012-07-13T00:00:00.000000000",
          "2012-07-14T00:00:00.000000000",
          "2012-07-16T00:00:00.000000000",
          "2012-07-17T00:00:00.000000000",
          "2012-07-18T00:00:00.000000000",
          "2012-07-19T00:00:00.000000000",
          "2012-07-20T00:00:00.000000000",
          "2012-07-23T00:00:00.000000000",
          "2012-07-24T00:00:00.000000000",
          "2012-07-25T00:00:00.000000000",
          "2012-07-26T00:00:00.000000000",
          "2012-07-27T00:00:00.000000000",
          "2012-07-30T00:00:00.000000000",
          "2012-07-31T00:00:00.000000000",
          "2012-08-01T00:00:00.000000000",
          "2012-08-02T00:00:00.000000000",
          "2012-08-05T00:00:00.000000000",
          "2012-08-06T00:00:00.000000000",
          "2012-08-07T00:00:00.000000000",
          "2012-08-08T00:00:00.000000000",
          "2012-08-09T00:00:00.000000000",
          "2012-08-10T00:00:00.000000000",
          "2012-08-11T00:00:00.000000000",
          "2012-08-13T00:00:00.000000000",
          "2012-08-15T00:00:00.000000000",
          "2012-08-16T00:00:00.000000000",
          "2012-08-17T00:00:00.000000000",
          "2012-08-21T00:00:00.000000000",
          "2012-08-22T00:00:00.000000000",
          "2012-08-23T00:00:00.000000000",
          "2012-08-24T00:00:00.000000000",
          "2012-08-25T00:00:00.000000000",
          "2012-08-27T00:00:00.000000000",
          "2012-08-28T00:00:00.000000000",
          "2012-08-29T00:00:00.000000000",
          "2012-08-31T00:00:00.000000000",
          "2012-09-01T00:00:00.000000000",
          "2012-09-03T00:00:00.000000000",
          "2012-09-04T00:00:00.000000000",
          "2012-09-05T00:00:00.000000000",
          "2012-09-06T00:00:00.000000000",
          "2012-09-07T00:00:00.000000000",
          "2012-09-08T00:00:00.000000000",
          "2012-09-10T00:00:00.000000000",
          "2012-09-11T00:00:00.000000000",
          "2012-09-12T00:00:00.000000000",
          "2012-09-13T00:00:00.000000000",
          "2012-09-14T00:00:00.000000000",
          "2012-09-15T00:00:00.000000000",
          "2012-09-16T00:00:00.000000000",
          "2012-09-17T00:00:00.000000000",
          "2012-09-18T00:00:00.000000000",
          "2012-09-19T00:00:00.000000000",
          "2012-09-20T00:00:00.000000000",
          "2012-09-21T00:00:00.000000000",
          "2012-09-22T00:00:00.000000000",
          "2012-09-24T00:00:00.000000000",
          "2012-09-25T00:00:00.000000000",
          "2012-09-26T00:00:00.000000000",
          "2012-09-27T00:00:00.000000000",
          "2012-09-28T00:00:00.000000000",
          "2012-10-01T00:00:00.000000000",
          "2012-10-02T00:00:00.000000000",
          "2012-10-03T00:00:00.000000000",
          "2012-10-04T00:00:00.000000000",
          "2012-10-05T00:00:00.000000000",
          "2012-10-08T00:00:00.000000000",
          "2012-10-09T00:00:00.000000000",
          "2012-10-10T00:00:00.000000000",
          "2012-10-11T00:00:00.000000000",
          "2012-10-12T00:00:00.000000000",
          "2012-10-13T00:00:00.000000000",
          "2012-10-15T00:00:00.000000000",
          "2012-10-16T00:00:00.000000000",
          "2012-10-17T00:00:00.000000000",
          "2012-10-18T00:00:00.000000000",
          "2012-10-19T00:00:00.000000000",
          "2012-10-20T00:00:00.000000000",
          "2012-10-22T00:00:00.000000000",
          "2012-10-23T00:00:00.000000000",
          "2012-10-24T00:00:00.000000000",
          "2012-10-25T00:00:00.000000000",
          "2012-10-26T00:00:00.000000000",
          "2012-10-28T00:00:00.000000000",
          "2012-10-29T00:00:00.000000000",
          "2012-10-30T00:00:00.000000000",
          "2012-10-31T00:00:00.000000000",
          "2012-11-01T00:00:00.000000000",
          "2012-11-02T00:00:00.000000000",
          "2012-11-03T00:00:00.000000000",
          "2012-11-05T00:00:00.000000000",
          "2012-11-06T00:00:00.000000000",
          "2012-11-07T00:00:00.000000000",
          "2012-11-08T00:00:00.000000000",
          "2012-11-09T00:00:00.000000000",
          "2012-11-10T00:00:00.000000000",
          "2012-11-11T00:00:00.000000000",
          "2012-11-12T00:00:00.000000000",
          "2012-11-13T00:00:00.000000000",
          "2012-11-14T00:00:00.000000000",
          "2012-11-15T00:00:00.000000000",
          "2012-11-16T00:00:00.000000000",
          "2012-11-17T00:00:00.000000000",
          "2012-11-19T00:00:00.000000000",
          "2012-11-20T00:00:00.000000000",
          "2012-11-21T00:00:00.000000000",
          "2012-11-22T00:00:00.000000000",
          "2012-11-23T00:00:00.000000000",
          "2012-11-24T00:00:00.000000000",
          "2012-11-25T00:00:00.000000000",
          "2012-11-26T00:00:00.000000000",
          "2012-11-27T00:00:00.000000000",
          "2012-11-28T00:00:00.000000000",
          "2012-11-29T00:00:00.000000000",
          "2012-11-30T00:00:00.000000000",
          "2012-12-01T00:00:00.000000000",
          "2012-12-03T00:00:00.000000000",
          "2012-12-04T00:00:00.000000000",
          "2012-12-05T00:00:00.000000000",
          "2012-12-06T00:00:00.000000000",
          "2012-12-07T00:00:00.000000000",
          "2012-12-08T00:00:00.000000000",
          "2012-12-09T00:00:00.000000000",
          "2012-12-10T00:00:00.000000000",
          "2012-12-11T00:00:00.000000000",
          "2012-12-12T00:00:00.000000000",
          "2012-12-13T00:00:00.000000000",
          "2012-12-14T00:00:00.000000000",
          "2012-12-15T00:00:00.000000000",
          "2012-12-16T00:00:00.000000000",
          "2012-12-17T00:00:00.000000000",
          "2012-12-18T00:00:00.000000000",
          "2012-12-19T00:00:00.000000000",
          "2012-12-20T00:00:00.000000000",
          "2012-12-21T00:00:00.000000000",
          "2012-12-22T00:00:00.000000000",
          "2012-12-23T00:00:00.000000000",
          "2012-12-24T00:00:00.000000000",
          "2012-12-25T00:00:00.000000000",
          "2012-12-26T00:00:00.000000000",
          "2012-12-27T00:00:00.000000000",
          "2012-12-28T00:00:00.000000000",
          "2012-12-29T00:00:00.000000000",
          "2012-12-30T00:00:00.000000000",
          "2012-12-31T00:00:00.000000000",
          "2013-01-02T00:00:00.000000000",
          "2013-01-03T00:00:00.000000000",
          "2013-01-04T00:00:00.000000000",
          "2013-01-05T00:00:00.000000000",
          "2013-01-07T00:00:00.000000000",
          "2013-01-08T00:00:00.000000000",
          "2013-01-09T00:00:00.000000000",
          "2013-01-10T00:00:00.000000000",
          "2013-01-11T00:00:00.000000000",
          "2013-01-14T00:00:00.000000000",
          "2013-01-15T00:00:00.000000000",
          "2013-01-16T00:00:00.000000000",
          "2013-01-17T00:00:00.000000000",
          "2013-01-21T00:00:00.000000000",
          "2013-01-22T00:00:00.000000000",
          "2013-01-23T00:00:00.000000000",
          "2013-01-24T00:00:00.000000000",
          "2013-01-25T00:00:00.000000000",
          "2013-01-28T00:00:00.000000000",
          "2013-01-30T00:00:00.000000000",
          "2013-01-31T00:00:00.000000000",
          "2013-02-01T00:00:00.000000000",
          "2013-02-02T00:00:00.000000000",
          "2013-02-03T00:00:00.000000000",
          "2013-02-04T00:00:00.000000000",
          "2013-02-05T00:00:00.000000000",
          "2013-02-06T00:00:00.000000000",
          "2013-02-07T00:00:00.000000000",
          "2013-02-08T00:00:00.000000000",
          "2013-02-09T00:00:00.000000000",
          "2013-02-11T00:00:00.000000000",
          "2013-02-12T00:00:00.000000000",
          "2013-02-13T00:00:00.000000000",
          "2013-02-14T00:00:00.000000000",
          "2013-02-15T00:00:00.000000000",
          "2013-02-16T00:00:00.000000000",
          "2013-02-19T00:00:00.000000000",
          "2013-02-20T00:00:00.000000000",
          "2013-02-21T00:00:00.000000000",
          "2013-02-22T00:00:00.000000000",
          "2013-02-23T00:00:00.000000000",
          "2013-02-25T00:00:00.000000000",
          "2013-02-27T00:00:00.000000000",
          "2013-02-28T00:00:00.000000000",
          "2013-03-01T00:00:00.000000000",
          "2013-03-02T00:00:00.000000000",
          "2013-03-04T00:00:00.000000000",
          "2013-03-05T00:00:00.000000000",
          "2013-03-06T00:00:00.000000000",
          "2013-03-07T00:00:00.000000000",
          "2013-03-08T00:00:00.000000000",
          "2013-03-09T00:00:00.000000000",
          "2013-03-10T00:00:00.000000000",
          "2013-03-11T00:00:00.000000000",
          "2013-03-12T00:00:00.000000000",
          "2013-03-13T00:00:00.000000000",
          "2013-03-14T00:00:00.000000000",
          "2013-03-15T00:00:00.000000000",
          "2013-03-16T00:00:00.000000000",
          "2013-03-18T00:00:00.000000000",
          "2013-03-19T00:00:00.000000000",
          "2013-03-20T00:00:00.000000000",
          "2013-03-21T00:00:00.000000000",
          "2013-03-22T00:00:00.000000000",
          "2013-03-23T00:00:00.000000000",
          "2013-03-25T00:00:00.000000000",
          "2013-03-26T00:00:00.000000000",
          "2013-03-27T00:00:00.000000000",
          "2013-03-28T00:00:00.000000000",
          "2013-03-29T00:00:00.000000000",
          "2013-03-30T00:00:00.000000000",
          "2013-03-31T00:00:00.000000000",
          "2013-04-01T00:00:00.000000000",
          "2013-04-02T00:00:00.000000000",
          "2013-04-03T00:00:00.000000000",
          "2013-04-04T00:00:00.000000000",
          "2013-04-05T00:00:00.000000000",
          "2013-04-06T00:00:00.000000000",
          "2013-04-07T00:00:00.000000000",
          "2013-04-08T00:00:00.000000000",
          "2013-04-09T00:00:00.000000000",
          "2013-04-10T00:00:00.000000000",
          "2013-04-11T00:00:00.000000000",
          "2013-04-13T00:00:00.000000000",
          "2013-04-14T00:00:00.000000000",
          "2013-04-15T00:00:00.000000000",
          "2013-04-16T00:00:00.000000000",
          "2013-04-17T00:00:00.000000000",
          "2013-04-18T00:00:00.000000000",
          "2013-04-19T00:00:00.000000000",
          "2013-04-20T00:00:00.000000000",
          "2013-04-22T00:00:00.000000000",
          "2013-04-23T00:00:00.000000000",
          "2013-04-24T00:00:00.000000000",
          "2013-04-25T00:00:00.000000000",
          "2013-04-26T00:00:00.000000000",
          "2013-04-27T00:00:00.000000000",
          "2013-04-29T00:00:00.000000000",
          "2013-05-01T00:00:00.000000000",
          "2013-05-02T00:00:00.000000000",
          "2013-05-03T00:00:00.000000000",
          "2013-05-04T00:00:00.000000000",
          "2013-05-06T00:00:00.000000000",
          "2013-05-07T00:00:00.000000000",
          "2013-05-08T00:00:00.000000000",
          "2013-05-09T00:00:00.000000000",
          "2013-05-10T00:00:00.000000000",
          "2013-05-11T00:00:00.000000000",
          "2013-05-12T00:00:00.000000000",
          "2013-05-13T00:00:00.000000000",
          "2013-05-15T00:00:00.000000000",
          "2013-05-16T00:00:00.000000000",
          "2013-05-17T00:00:00.000000000",
          "2013-05-18T00:00:00.000000000",
          "2013-05-19T00:00:00.000000000",
          "2013-05-20T00:00:00.000000000",
          "2013-05-21T00:00:00.000000000",
          "2013-05-22T00:00:00.000000000",
          "2013-05-23T00:00:00.000000000",
          "2013-05-24T00:00:00.000000000",
          "2013-05-25T00:00:00.000000000",
          "2013-05-26T00:00:00.000000000",
          "2013-05-27T00:00:00.000000000",
          "2013-05-28T00:00:00.000000000",
          "2013-05-29T00:00:00.000000000",
          "2013-05-30T00:00:00.000000000",
          "2013-05-31T00:00:00.000000000",
          "2013-06-01T00:00:00.000000000",
          "2013-06-03T00:00:00.000000000",
          "2013-06-04T00:00:00.000000000",
          "2013-06-05T00:00:00.000000000",
          "2013-06-06T00:00:00.000000000",
          "2013-06-07T00:00:00.000000000",
          "2013-06-08T00:00:00.000000000",
          "2013-06-10T00:00:00.000000000",
          "2013-06-11T00:00:00.000000000",
          "2013-06-12T00:00:00.000000000",
          "2013-06-13T00:00:00.000000000",
          "2013-06-14T00:00:00.000000000",
          "2013-06-15T00:00:00.000000000",
          "2013-06-16T00:00:00.000000000",
          "2013-06-17T00:00:00.000000000",
          "2013-06-18T00:00:00.000000000",
          "2013-06-19T00:00:00.000000000",
          "2013-06-20T00:00:00.000000000",
          "2013-06-21T00:00:00.000000000",
          "2013-06-22T00:00:00.000000000",
          "2013-06-24T00:00:00.000000000",
          "2013-06-25T00:00:00.000000000",
          "2013-06-26T00:00:00.000000000",
          "2013-06-27T00:00:00.000000000",
          "2013-06-28T00:00:00.000000000",
          "2013-06-29T00:00:00.000000000",
          "2013-06-30T00:00:00.000000000",
          "2013-07-01T00:00:00.000000000",
          "2013-07-02T00:00:00.000000000",
          "2013-07-03T00:00:00.000000000",
          "2013-07-04T00:00:00.000000000",
          "2013-07-05T00:00:00.000000000",
          "2013-07-08T00:00:00.000000000",
          "2013-07-09T00:00:00.000000000",
          "2013-07-10T00:00:00.000000000",
          "2013-07-11T00:00:00.000000000",
          "2013-07-13T00:00:00.000000000",
          "2013-07-15T00:00:00.000000000",
          "2013-07-16T00:00:00.000000000",
          "2013-07-17T00:00:00.000000000",
          "2013-07-18T00:00:00.000000000",
          "2013-07-19T00:00:00.000000000",
          "2013-07-20T00:00:00.000000000",
          "2013-07-21T00:00:00.000000000",
          "2013-07-22T00:00:00.000000000",
          "2013-07-23T00:00:00.000000000",
          "2013-07-24T00:00:00.000000000",
          "2013-07-25T00:00:00.000000000",
          "2013-07-26T00:00:00.000000000",
          "2013-07-29T00:00:00.000000000",
          "2013-07-30T00:00:00.000000000",
          "2013-07-31T00:00:00.000000000",
          "2013-08-01T00:00:00.000000000",
          "2013-08-02T00:00:00.000000000",
          "2013-08-03T00:00:00.000000000",
          "2013-08-04T00:00:00.000000000",
          "2013-08-05T00:00:00.000000000",
          "2013-08-06T00:00:00.000000000",
          "2013-08-07T00:00:00.000000000",
          "2013-08-08T00:00:00.000000000",
          "2013-08-09T00:00:00.000000000",
          "2013-08-10T00:00:00.000000000",
          "2013-08-12T00:00:00.000000000",
          "2013-08-13T00:00:00.000000000",
          "2013-08-14T00:00:00.000000000",
          "2013-08-15T00:00:00.000000000",
          "2013-08-16T00:00:00.000000000",
          "2013-08-17T00:00:00.000000000",
          "2013-08-18T00:00:00.000000000",
          "2013-08-19T00:00:00.000000000",
          "2013-08-20T00:00:00.000000000",
          "2013-08-21T00:00:00.000000000",
          "2013-08-22T00:00:00.000000000",
          "2013-08-23T00:00:00.000000000",
          "2013-08-24T00:00:00.000000000",
          "2013-08-27T00:00:00.000000000",
          "2013-08-28T00:00:00.000000000",
          "2013-08-29T00:00:00.000000000",
          "2013-08-30T00:00:00.000000000",
          "2013-08-31T00:00:00.000000000",
          "2013-09-01T00:00:00.000000000",
          "2013-09-02T00:00:00.000000000",
          "2013-09-03T00:00:00.000000000",
          "2013-09-04T00:00:00.000000000",
          "2013-09-05T00:00:00.000000000",
          "2013-09-06T00:00:00.000000000",
          "2013-09-07T00:00:00.000000000",
          "2013-09-09T00:00:00.000000000",
          "2013-09-10T00:00:00.000000000",
          "2013-09-11T00:00:00.000000000",
          "2013-09-12T00:00:00.000000000",
          "2013-09-13T00:00:00.000000000",
          "2013-09-14T00:00:00.000000000",
          "2013-09-15T00:00:00.000000000",
          "2013-09-16T00:00:00.000000000",
          "2013-09-17T00:00:00.000000000",
          "2013-09-18T00:00:00.000000000",
          "2013-09-19T00:00:00.000000000",
          "2013-09-20T00:00:00.000000000",
          "2013-09-21T00:00:00.000000000",
          "2013-09-23T00:00:00.000000000",
          "2013-09-24T00:00:00.000000000",
          "2013-09-25T00:00:00.000000000",
          "2013-09-26T00:00:00.000000000",
          "2013-09-27T00:00:00.000000000",
          "2013-09-28T00:00:00.000000000",
          "2013-09-29T00:00:00.000000000",
          "2013-09-30T00:00:00.000000000",
          "2013-10-01T00:00:00.000000000",
          "2013-10-02T00:00:00.000000000",
          "2013-10-03T00:00:00.000000000",
          "2013-10-04T00:00:00.000000000",
          "2013-10-05T00:00:00.000000000",
          "2013-10-07T00:00:00.000000000",
          "2013-10-08T00:00:00.000000000",
          "2013-10-09T00:00:00.000000000",
          "2013-10-10T00:00:00.000000000",
          "2013-10-11T00:00:00.000000000",
          "2013-10-12T00:00:00.000000000",
          "2013-10-14T00:00:00.000000000",
          "2013-10-15T00:00:00.000000000",
          "2013-10-16T00:00:00.000000000",
          "2013-10-17T00:00:00.000000000",
          "2013-10-18T00:00:00.000000000",
          "2013-10-19T00:00:00.000000000",
          "2013-10-21T00:00:00.000000000",
          "2013-10-22T00:00:00.000000000",
          "2013-10-23T00:00:00.000000000",
          "2013-10-24T00:00:00.000000000",
          "2013-10-25T00:00:00.000000000",
          "2013-10-26T00:00:00.000000000",
          "2013-10-28T00:00:00.000000000",
          "2013-10-29T00:00:00.000000000",
          "2013-10-30T00:00:00.000000000",
          "2013-10-31T00:00:00.000000000",
          "2013-11-01T00:00:00.000000000",
          "2013-11-02T00:00:00.000000000",
          "2013-11-04T00:00:00.000000000",
          "2013-11-05T00:00:00.000000000",
          "2013-11-06T00:00:00.000000000",
          "2013-11-07T00:00:00.000000000",
          "2013-11-08T00:00:00.000000000",
          "2013-11-09T00:00:00.000000000",
          "2013-11-10T00:00:00.000000000",
          "2013-11-11T00:00:00.000000000",
          "2013-11-12T00:00:00.000000000",
          "2013-11-13T00:00:00.000000000",
          "2013-11-14T00:00:00.000000000",
          "2013-11-15T00:00:00.000000000",
          "2013-11-16T00:00:00.000000000",
          "2013-11-17T00:00:00.000000000",
          "2013-11-18T00:00:00.000000000",
          "2013-11-19T00:00:00.000000000",
          "2013-11-20T00:00:00.000000000",
          "2013-11-21T00:00:00.000000000",
          "2013-11-22T00:00:00.000000000",
          "2013-11-23T00:00:00.000000000",
          "2013-11-24T00:00:00.000000000",
          "2013-11-25T00:00:00.000000000",
          "2013-11-26T00:00:00.000000000",
          "2013-11-27T00:00:00.000000000",
          "2013-11-28T00:00:00.000000000",
          "2013-11-29T00:00:00.000000000",
          "2013-11-30T00:00:00.000000000",
          "2013-12-01T00:00:00.000000000",
          "2013-12-02T00:00:00.000000000",
          "2013-12-03T00:00:00.000000000",
          "2013-12-04T00:00:00.000000000",
          "2013-12-05T00:00:00.000000000",
          "2013-12-06T00:00:00.000000000",
          "2013-12-07T00:00:00.000000000",
          "2013-12-09T00:00:00.000000000",
          "2013-12-10T00:00:00.000000000",
          "2013-12-11T00:00:00.000000000",
          "2013-12-12T00:00:00.000000000",
          "2013-12-13T00:00:00.000000000",
          "2013-12-14T00:00:00.000000000",
          "2013-12-15T00:00:00.000000000",
          "2013-12-16T00:00:00.000000000",
          "2013-12-17T00:00:00.000000000",
          "2013-12-18T00:00:00.000000000",
          "2013-12-19T00:00:00.000000000",
          "2013-12-20T00:00:00.000000000",
          "2013-12-21T00:00:00.000000000",
          "2013-12-23T00:00:00.000000000",
          "2013-12-24T00:00:00.000000000",
          "2013-12-25T00:00:00.000000000",
          "2013-12-26T00:00:00.000000000",
          "2013-12-27T00:00:00.000000000",
          "2013-12-28T00:00:00.000000000",
          "2013-12-30T00:00:00.000000000",
          "2013-12-31T00:00:00.000000000",
          "2014-01-01T00:00:00.000000000",
          "2014-01-02T00:00:00.000000000",
          "2014-01-03T00:00:00.000000000",
          "2014-01-04T00:00:00.000000000",
          "2014-01-07T00:00:00.000000000",
          "2014-01-08T00:00:00.000000000",
          "2014-01-09T00:00:00.000000000",
          "2014-01-10T00:00:00.000000000",
          "2014-01-13T00:00:00.000000000",
          "2014-01-14T00:00:00.000000000",
          "2014-01-15T00:00:00.000000000",
          "2014-01-16T00:00:00.000000000",
          "2014-01-17T00:00:00.000000000",
          "2014-01-20T00:00:00.000000000",
          "2014-01-21T00:00:00.000000000",
          "2014-01-22T00:00:00.000000000",
          "2014-01-23T00:00:00.000000000",
          "2014-01-24T00:00:00.000000000",
          "2014-01-25T00:00:00.000000000",
          "2014-01-27T00:00:00.000000000",
          "2014-01-28T00:00:00.000000000",
          "2014-01-29T00:00:00.000000000",
          "2014-01-30T00:00:00.000000000",
          "2014-01-31T00:00:00.000000000",
          "2014-02-03T00:00:00.000000000",
          "2014-02-04T00:00:00.000000000",
          "2014-02-05T00:00:00.000000000",
          "2014-02-06T00:00:00.000000000",
          "2014-02-07T00:00:00.000000000",
          "2014-02-10T00:00:00.000000000",
          "2014-02-11T00:00:00.000000000",
          "2014-02-12T00:00:00.000000000",
          "2014-02-14T00:00:00.000000000",
          "2014-02-17T00:00:00.000000000",
          "2014-02-18T00:00:00.000000000",
          "2014-02-19T00:00:00.000000000",
          "2014-02-20T00:00:00.000000000",
          "2014-02-21T00:00:00.000000000",
          "2014-02-22T00:00:00.000000000",
          "2014-02-24T00:00:00.000000000",
          "2014-02-25T00:00:00.000000000",
          "2014-02-26T00:00:00.000000000",
          "2014-02-27T00:00:00.000000000",
          "2014-03-01T00:00:00.000000000",
          "2014-03-03T00:00:00.000000000",
          "2014-03-04T00:00:00.000000000",
          "2014-03-05T00:00:00.000000000",
          "2014-03-06T00:00:00.000000000",
          "2014-03-07T00:00:00.000000000",
          "2014-03-08T00:00:00.000000000",
          "2014-03-09T00:00:00.000000000",
          "2014-03-10T00:00:00.000000000",
          "2014-03-11T00:00:00.000000000",
          "2014-03-12T00:00:00.000000000",
          "2014-03-13T00:00:00.000000000",
          "2014-03-14T00:00:00.000000000",
          "2014-03-15T00:00:00.000000000",
          "2014-03-17T00:00:00.000000000",
          "2014-03-18T00:00:00.000000000",
          "2014-03-19T00:00:00.000000000",
          "2014-03-20T00:00:00.000000000",
          "2014-03-21T00:00:00.000000000",
          "2014-03-22T00:00:00.000000000",
          "2014-03-24T00:00:00.000000000",
          "2014-03-25T00:00:00.000000000",
          "2014-03-26T00:00:00.000000000",
          "2014-03-27T00:00:00.000000000",
          "2014-03-28T00:00:00.000000000",
          "2014-03-29T00:00:00.000000000",
          "2014-03-30T00:00:00.000000000",
          "2014-03-31T00:00:00.000000000",
          "2014-04-01T00:00:00.000000000",
          "2014-04-02T00:00:00.000000000",
          "2014-04-03T00:00:00.000000000",
          "2014-04-04T00:00:00.000000000",
          "2014-04-05T00:00:00.000000000",
          "2014-04-07T00:00:00.000000000",
          "2014-04-08T00:00:00.000000000",
          "2014-04-09T00:00:00.000000000",
          "2014-04-10T00:00:00.000000000",
          "2014-04-11T00:00:00.000000000",
          "2014-04-12T00:00:00.000000000",
          "2014-04-13T00:00:00.000000000",
          "2014-04-14T00:00:00.000000000",
          "2014-04-15T00:00:00.000000000",
          "2014-04-16T00:00:00.000000000",
          "2014-04-17T00:00:00.000000000",
          "2014-04-18T00:00:00.000000000",
          "2014-04-21T00:00:00.000000000",
          "2014-04-22T00:00:00.000000000",
          "2014-04-23T00:00:00.000000000",
          "2014-04-24T00:00:00.000000000",
          "2014-04-25T00:00:00.000000000",
          "2014-04-26T00:00:00.000000000",
          "2014-04-27T00:00:00.000000000",
          "2014-04-28T00:00:00.000000000",
          "2014-04-29T00:00:00.000000000",
          "2014-04-30T00:00:00.000000000",
          "2014-05-01T00:00:00.000000000",
          "2014-05-02T00:00:00.000000000",
          "2014-05-03T00:00:00.000000000",
          "2014-05-04T00:00:00.000000000",
          "2014-05-05T00:00:00.000000000",
          "2014-05-06T00:00:00.000000000",
          "2014-05-07T00:00:00.000000000",
          "2014-05-08T00:00:00.000000000",
          "2014-05-09T00:00:00.000000000",
          "2014-05-10T00:00:00.000000000",
          "2014-05-12T00:00:00.000000000",
          "2014-05-13T00:00:00.000000000",
          "2014-05-14T00:00:00.000000000",
          "2014-05-15T00:00:00.000000000",
          "2014-05-16T00:00:00.000000000",
          "2014-05-17T00:00:00.000000000",
          "2014-05-19T00:00:00.000000000",
          "2014-05-20T00:00:00.000000000",
          "2014-05-21T00:00:00.000000000",
          "2014-05-22T00:00:00.000000000",
          "2014-05-23T00:00:00.000000000",
          "2014-05-24T00:00:00.000000000",
          "2014-05-26T00:00:00.000000000",
          "2014-05-27T00:00:00.000000000",
          "2014-05-28T00:00:00.000000000",
          "2014-05-29T00:00:00.000000000",
          "2014-05-30T00:00:00.000000000",
          "2014-05-31T00:00:00.000000000",
          "2014-06-02T00:00:00.000000000",
          "2014-06-03T00:00:00.000000000",
          "2014-06-04T00:00:00.000000000",
          "2014-06-05T00:00:00.000000000",
          "2014-06-06T00:00:00.000000000",
          "2014-06-07T00:00:00.000000000",
          "2014-06-09T00:00:00.000000000",
          "2014-06-10T00:00:00.000000000",
          "2014-06-11T00:00:00.000000000",
          "2014-06-12T00:00:00.000000000",
          "2014-06-13T00:00:00.000000000",
          "2014-06-14T00:00:00.000000000",
          "2014-06-16T00:00:00.000000000",
          "2014-06-17T00:00:00.000000000",
          "2014-06-18T00:00:00.000000000",
          "2014-06-19T00:00:00.000000000",
          "2014-06-20T00:00:00.000000000",
          "2014-06-21T00:00:00.000000000",
          "2014-06-22T00:00:00.000000000",
          "2014-06-23T00:00:00.000000000",
          "2014-06-25T00:00:00.000000000",
          "2014-06-26T00:00:00.000000000",
          "2014-06-27T00:00:00.000000000",
          "2014-06-28T00:00:00.000000000",
          "2014-06-30T00:00:00.000000000",
          "2014-07-01T00:00:00.000000000",
          "2014-07-02T00:00:00.000000000",
          "2014-07-03T00:00:00.000000000",
          "2014-07-04T00:00:00.000000000",
          "2014-07-06T00:00:00.000000000",
          "2014-07-07T00:00:00.000000000",
          "2014-07-08T00:00:00.000000000",
          "2014-07-09T00:00:00.000000000",
          "2014-07-10T00:00:00.000000000",
          "2014-07-11T00:00:00.000000000",
          "2014-07-12T00:00:00.000000000",
          "2014-07-13T00:00:00.000000000",
          "2014-07-14T00:00:00.000000000",
          "2014-07-15T00:00:00.000000000",
          "2014-07-16T00:00:00.000000000",
          "2014-07-17T00:00:00.000000000",
          "2014-07-18T00:00:00.000000000",
          "2014-07-19T00:00:00.000000000",
          "2014-07-21T00:00:00.000000000",
          "2014-07-22T00:00:00.000000000",
          "2014-07-23T00:00:00.000000000",
          "2014-07-24T00:00:00.000000000",
          "2014-07-25T00:00:00.000000000",
          "2014-07-26T00:00:00.000000000",
          "2014-07-27T00:00:00.000000000",
          "2014-07-28T00:00:00.000000000",
          "2014-07-29T00:00:00.000000000",
          "2014-07-30T00:00:00.000000000",
          "2014-07-31T00:00:00.000000000",
          "2014-08-01T00:00:00.000000000",
          "2014-08-02T00:00:00.000000000",
          "2014-08-04T00:00:00.000000000",
          "2014-08-05T00:00:00.000000000",
          "2014-08-06T00:00:00.000000000",
          "2014-08-07T00:00:00.000000000",
          "2014-08-08T00:00:00.000000000",
          "2014-08-11T00:00:00.000000000",
          "2014-08-12T00:00:00.000000000",
          "2014-08-13T00:00:00.000000000",
          "2014-08-14T00:00:00.000000000",
          "2014-08-15T00:00:00.000000000",
          "2014-08-16T00:00:00.000000000",
          "2014-08-17T00:00:00.000000000",
          "2014-08-18T00:00:00.000000000",
          "2014-08-19T00:00:00.000000000",
          "2014-08-20T00:00:00.000000000",
          "2014-08-21T00:00:00.000000000",
          "2014-08-22T00:00:00.000000000",
          "2014-08-23T00:00:00.000000000",
          "2014-08-24T00:00:00.000000000",
          "2014-08-25T00:00:00.000000000",
          "2014-08-26T00:00:00.000000000",
          "2014-08-27T00:00:00.000000000",
          "2014-08-28T00:00:00.000000000",
          "2014-08-29T00:00:00.000000000",
          "2014-08-30T00:00:00.000000000",
          "2014-09-01T00:00:00.000000000",
          "2014-09-02T00:00:00.000000000",
          "2014-09-03T00:00:00.000000000",
          "2014-09-04T00:00:00.000000000",
          "2014-09-05T00:00:00.000000000",
          "2014-09-06T00:00:00.000000000",
          "2014-09-08T00:00:00.000000000",
          "2014-09-09T00:00:00.000000000",
          "2014-09-10T00:00:00.000000000",
          "2014-09-11T00:00:00.000000000",
          "2014-09-12T00:00:00.000000000",
          "2014-09-13T00:00:00.000000000",
          "2014-09-14T00:00:00.000000000",
          "2014-09-15T00:00:00.000000000",
          "2014-09-16T00:00:00.000000000",
          "2014-09-17T00:00:00.000000000",
          "2014-09-18T00:00:00.000000000",
          "2014-09-19T00:00:00.000000000",
          "2014-09-20T00:00:00.000000000",
          "2014-09-21T00:00:00.000000000",
          "2014-09-22T00:00:00.000000000",
          "2014-09-23T00:00:00.000000000",
          "2014-09-24T00:00:00.000000000",
          "2014-09-25T00:00:00.000000000",
          "2014-09-26T00:00:00.000000000",
          "2014-09-27T00:00:00.000000000",
          "2014-09-29T00:00:00.000000000",
          "2014-09-30T00:00:00.000000000",
          "2014-10-01T00:00:00.000000000",
          "2014-10-02T00:00:00.000000000",
          "2014-10-03T00:00:00.000000000",
          "2014-10-04T00:00:00.000000000",
          "2014-10-05T00:00:00.000000000",
          "2014-10-06T00:00:00.000000000",
          "2014-10-07T00:00:00.000000000",
          "2014-10-08T00:00:00.000000000",
          "2014-10-09T00:00:00.000000000",
          "2014-10-10T00:00:00.000000000",
          "2014-10-11T00:00:00.000000000",
          "2014-10-13T00:00:00.000000000",
          "2014-10-14T00:00:00.000000000",
          "2014-10-15T00:00:00.000000000",
          "2014-10-16T00:00:00.000000000",
          "2014-10-17T00:00:00.000000000",
          "2014-10-18T00:00:00.000000000",
          "2014-10-20T00:00:00.000000000",
          "2014-10-21T00:00:00.000000000",
          "2014-10-22T00:00:00.000000000",
          "2014-10-23T00:00:00.000000000",
          "2014-10-24T00:00:00.000000000",
          "2014-10-25T00:00:00.000000000",
          "2014-10-27T00:00:00.000000000",
          "2014-10-28T00:00:00.000000000",
          "2014-10-29T00:00:00.000000000",
          "2014-10-30T00:00:00.000000000",
          "2014-10-31T00:00:00.000000000",
          "2014-11-01T00:00:00.000000000",
          "2014-11-02T00:00:00.000000000",
          "2014-11-03T00:00:00.000000000",
          "2014-11-04T00:00:00.000000000",
          "2014-11-05T00:00:00.000000000",
          "2014-11-06T00:00:00.000000000",
          "2014-11-07T00:00:00.000000000",
          "2014-11-08T00:00:00.000000000",
          "2014-11-09T00:00:00.000000000",
          "2014-11-10T00:00:00.000000000",
          "2014-11-11T00:00:00.000000000",
          "2014-11-12T00:00:00.000000000",
          "2014-11-13T00:00:00.000000000",
          "2014-11-14T00:00:00.000000000",
          "2014-11-15T00:00:00.000000000",
          "2014-11-16T00:00:00.000000000",
          "2014-11-17T00:00:00.000000000",
          "2014-11-18T00:00:00.000000000",
          "2014-11-19T00:00:00.000000000",
          "2014-11-20T00:00:00.000000000",
          "2014-11-21T00:00:00.000000000",
          "2014-11-22T00:00:00.000000000",
          "2014-11-23T00:00:00.000000000",
          "2014-11-24T00:00:00.000000000",
          "2014-11-25T00:00:00.000000000",
          "2014-11-26T00:00:00.000000000",
          "2014-11-27T00:00:00.000000000",
          "2014-11-28T00:00:00.000000000",
          "2014-11-29T00:00:00.000000000",
          "2014-11-30T00:00:00.000000000",
          "2014-12-01T00:00:00.000000000",
          "2014-12-02T00:00:00.000000000",
          "2014-12-03T00:00:00.000000000",
          "2014-12-04T00:00:00.000000000",
          "2014-12-05T00:00:00.000000000",
          "2014-12-06T00:00:00.000000000",
          "2014-12-07T00:00:00.000000000",
          "2014-12-08T00:00:00.000000000",
          "2014-12-09T00:00:00.000000000",
          "2014-12-10T00:00:00.000000000",
          "2014-12-11T00:00:00.000000000",
          "2014-12-12T00:00:00.000000000",
          "2014-12-14T00:00:00.000000000",
          "2014-12-15T00:00:00.000000000",
          "2014-12-16T00:00:00.000000000",
          "2014-12-17T00:00:00.000000000",
          "2014-12-18T00:00:00.000000000",
          "2014-12-19T00:00:00.000000000",
          "2014-12-20T00:00:00.000000000",
          "2014-12-21T00:00:00.000000000",
          "2014-12-22T00:00:00.000000000",
          "2014-12-23T00:00:00.000000000",
          "2014-12-24T00:00:00.000000000",
          "2014-12-25T00:00:00.000000000",
          "2014-12-26T00:00:00.000000000",
          "2014-12-27T00:00:00.000000000",
          "2014-12-28T00:00:00.000000000",
          "2014-12-29T00:00:00.000000000",
          "2014-12-30T00:00:00.000000000",
          "2014-12-31T00:00:00.000000000"
         ],
         "xaxis": "x",
         "y": {
          "bdata": "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",
          "dtype": "f8"
         },
         "yaxis": "y"
        }
       ],
       "layout": {
        "legend": {
         "tracegroupgap": 0
        },
        "template": {
         "data": {
          "bar": [
           {
            "error_x": {
             "color": "#2a3f5f"
            },
            "error_y": {
             "color": "#2a3f5f"
            },
            "marker": {
             "line": {
              "color": "#E5ECF6",
              "width": 0.5
             },
             "pattern": {
              "fillmode": "overlay",
              "size": 10,
              "solidity": 0.2
             }
            },
            "type": "bar"
           }
          ],
          "barpolar": [
           {
            "marker": {
             "line": {
              "color": "#E5ECF6",
              "width": 0.5
             },
             "pattern": {
              "fillmode": "overlay",
              "size": 10,
              "solidity": 0.2
             }
            },
            "type": "barpolar"
           }
          ],
          "carpet": [
           {
            "aaxis": {
             "endlinecolor": "#2a3f5f",
             "gridcolor": "white",
             "linecolor": "white",
             "minorgridcolor": "white",
             "startlinecolor": "#2a3f5f"
            },
            "baxis": {
             "endlinecolor": "#2a3f5f",
             "gridcolor": "white",
             "linecolor": "white",
             "minorgridcolor": "white",
             "startlinecolor": "#2a3f5f"
            },
            "type": "carpet"
           }
          ],
          "choropleth": [
           {
            "colorbar": {
             "outlinewidth": 0,
             "ticks": ""
            },
            "type": "choropleth"
           }
          ],
          "contour": [
           {
            "colorbar": {
             "outlinewidth": 0,
             "ticks": ""
            },
            "colorscale": [
             [
              0,
              "#0d0887"
             ],
             [
              0.1111111111111111,
              "#46039f"
             ],
             [
              0.2222222222222222,
              "#7201a8"
             ],
             [
              0.3333333333333333,
              "#9c179e"
             ],
             [
              0.4444444444444444,
              "#bd3786"
             ],
             [
              0.5555555555555556,
              "#d8576b"
             ],
             [
              0.6666666666666666,
              "#ed7953"
             ],
             [
              0.7777777777777778,
              "#fb9f3a"
             ],
             [
              0.8888888888888888,
              "#fdca26"
             ],
             [
              1,
              "#f0f921"
             ]
            ],
            "type": "contour"
           }
          ],
          "contourcarpet": [
           {
            "colorbar": {
             "outlinewidth": 0,
             "ticks": ""
            },
            "type": "contourcarpet"
           }
          ],
          "heatmap": [
           {
            "colorbar": {
             "outlinewidth": 0,
             "ticks": ""
            },
            "colorscale": [
             [
              0,
              "#0d0887"
             ],
             [
              0.1111111111111111,
              "#46039f"
             ],
             [
              0.2222222222222222,
              "#7201a8"
             ],
             [
              0.3333333333333333,
              "#9c179e"
             ],
             [
              0.4444444444444444,
              "#bd3786"
             ],
             [
              0.5555555555555556,
              "#d8576b"
             ],
             [
              0.6666666666666666,
              "#ed7953"
             ],
             [
              0.7777777777777778,
              "#fb9f3a"
             ],
             [
              0.8888888888888888,
              "#fdca26"
             ],
             [
              1,
              "#f0f921"
             ]
            ],
            "type": "heatmap"
           }
          ],
          "histogram": [
           {
            "marker": {
             "pattern": {
              "fillmode": "overlay",
              "size": 10,
              "solidity": 0.2
             }
            },
            "type": "histogram"
           }
          ],
          "histogram2d": [
           {
            "colorbar": {
             "outlinewidth": 0,
             "ticks": ""
            },
            "colorscale": [
             [
              0,
              "#0d0887"
             ],
             [
              0.1111111111111111,
              "#46039f"
             ],
             [
              0.2222222222222222,
              "#7201a8"
             ],
             [
              0.3333333333333333,
              "#9c179e"
             ],
             [
              0.4444444444444444,
              "#bd3786"
             ],
             [
              0.5555555555555556,
              "#d8576b"
             ],
             [
              0.6666666666666666,
              "#ed7953"
             ],
             [
              0.7777777777777778,
              "#fb9f3a"
             ],
             [
              0.8888888888888888,
              "#fdca26"
             ],
             [
              1,
              "#f0f921"
             ]
            ],
            "type": "histogram2d"
           }
          ],
          "histogram2dcontour": [
           {
            "colorbar": {
             "outlinewidth": 0,
             "ticks": ""
            },
            "colorscale": [
             [
              0,
              "#0d0887"
             ],
             [
              0.1111111111111111,
              "#46039f"
             ],
             [
              0.2222222222222222,
              "#7201a8"
             ],
             [
              0.3333333333333333,
              "#9c179e"
             ],
             [
              0.4444444444444444,
              "#bd3786"
             ],
             [
              0.5555555555555556,
              "#d8576b"
             ],
             [
              0.6666666666666666,
              "#ed7953"
             ],
             [
              0.7777777777777778,
              "#fb9f3a"
             ],
             [
              0.8888888888888888,
              "#fdca26"
             ],
             [
              1,
              "#f0f921"
             ]
            ],
            "type": "histogram2dcontour"
           }
          ],
          "mesh3d": [
           {
            "colorbar": {
             "outlinewidth": 0,
             "ticks": ""
            },
            "type": "mesh3d"
           }
          ],
          "parcoords": [
           {
            "line": {
             "colorbar": {
              "outlinewidth": 0,
              "ticks": ""
             }
            },
            "type": "parcoords"
           }
          ],
          "pie": [
           {
            "automargin": true,
            "type": "pie"
           }
          ],
          "scatter": [
           {
            "fillpattern": {
             "fillmode": "overlay",
             "size": 10,
             "solidity": 0.2
            },
            "type": "scatter"
           }
          ],
          "scatter3d": [
           {
            "line": {
             "colorbar": {
              "outlinewidth": 0,
              "ticks": ""
             }
            },
            "marker": {
             "colorbar": {
              "outlinewidth": 0,
              "ticks": ""
             }
            },
            "type": "scatter3d"
           }
          ],
          "scattercarpet": [
           {
            "marker": {
             "colorbar": {
              "outlinewidth": 0,
              "ticks": ""
             }
            },
            "type": "scattercarpet"
           }
          ],
          "scattergeo": [
           {
            "marker": {
             "colorbar": {
              "outlinewidth": 0,
              "ticks": ""
             }
            },
            "type": "scattergeo"
           }
          ],
          "scattergl": [
           {
            "marker": {
             "colorbar": {
              "outlinewidth": 0,
              "ticks": ""
             }
            },
            "type": "scattergl"
           }
          ],
          "scattermap": [
           {
            "marker": {
             "colorbar": {
              "outlinewidth": 0,
              "ticks": ""
             }
            },
            "type": "scattermap"
           }
          ],
          "scattermapbox": [
           {
            "marker": {
             "colorbar": {
              "outlinewidth": 0,
              "ticks": ""
             }
            },
            "type": "scattermapbox"
           }
          ],
          "scatterpolar": [
           {
            "marker": {
             "colorbar": {
              "outlinewidth": 0,
              "ticks": ""
             }
            },
            "type": "scatterpolar"
           }
          ],
          "scatterpolargl": [
           {
            "marker": {
             "colorbar": {
              "outlinewidth": 0,
              "ticks": ""
             }
            },
            "type": "scatterpolargl"
           }
          ],
          "scatterternary": [
           {
            "marker": {
             "colorbar": {
              "outlinewidth": 0,
              "ticks": ""
             }
            },
            "type": "scatterternary"
           }
          ],
          "surface": [
           {
            "colorbar": {
             "outlinewidth": 0,
             "ticks": ""
            },
            "colorscale": [
             [
              0,
              "#0d0887"
             ],
             [
              0.1111111111111111,
              "#46039f"
             ],
             [
              0.2222222222222222,
              "#7201a8"
             ],
             [
              0.3333333333333333,
              "#9c179e"
             ],
             [
              0.4444444444444444,
              "#bd3786"
             ],
             [
              0.5555555555555556,
              "#d8576b"
             ],
             [
              0.6666666666666666,
              "#ed7953"
             ],
             [
              0.7777777777777778,
              "#fb9f3a"
             ],
             [
              0.8888888888888888,
              "#fdca26"
             ],
             [
              1,
              "#f0f921"
             ]
            ],
            "type": "surface"
           }
          ],
          "table": [
           {
            "cells": {
             "fill": {
              "color": "#EBF0F8"
             },
             "line": {
              "color": "white"
             }
            },
            "header": {
             "fill": {
              "color": "#C8D4E3"
             },
             "line": {
              "color": "white"
             }
            },
            "type": "table"
           }
          ]
         },
         "layout": {
          "annotationdefaults": {
           "arrowcolor": "#2a3f5f",
           "arrowhead": 0,
           "arrowwidth": 1
          },
          "autotypenumbers": "strict",
          "coloraxis": {
           "colorbar": {
            "outlinewidth": 0,
            "ticks": ""
           }
          },
          "colorscale": {
           "diverging": [
            [
             0,
             "#8e0152"
            ],
            [
             0.1,
             "#c51b7d"
            ],
            [
             0.2,
             "#de77ae"
            ],
            [
             0.3,
             "#f1b6da"
            ],
            [
             0.4,
             "#fde0ef"
            ],
            [
             0.5,
             "#f7f7f7"
            ],
            [
             0.6,
             "#e6f5d0"
            ],
            [
             0.7,
             "#b8e186"
            ],
            [
             0.8,
             "#7fbc41"
            ],
            [
             0.9,
             "#4d9221"
            ],
            [
             1,
             "#276419"
            ]
           ],
           "sequential": [
            [
             0,
             "#0d0887"
            ],
            [
             0.1111111111111111,
             "#46039f"
            ],
            [
             0.2222222222222222,
             "#7201a8"
            ],
            [
             0.3333333333333333,
             "#9c179e"
            ],
            [
             0.4444444444444444,
             "#bd3786"
            ],
            [
             0.5555555555555556,
             "#d8576b"
            ],
            [
             0.6666666666666666,
             "#ed7953"
            ],
            [
             0.7777777777777778,
             "#fb9f3a"
            ],
            [
             0.8888888888888888,
             "#fdca26"
            ],
            [
             1,
             "#f0f921"
            ]
           ],
           "sequentialminus": [
            [
             0,
             "#0d0887"
            ],
            [
             0.1111111111111111,
             "#46039f"
            ],
            [
             0.2222222222222222,
             "#7201a8"
            ],
            [
             0.3333333333333333,
             "#9c179e"
            ],
            [
             0.4444444444444444,
             "#bd3786"
            ],
            [
             0.5555555555555556,
             "#d8576b"
            ],
            [
             0.6666666666666666,
             "#ed7953"
            ],
            [
             0.7777777777777778,
             "#fb9f3a"
            ],
            [
             0.8888888888888888,
             "#fdca26"
            ],
            [
             1,
             "#f0f921"
            ]
           ]
          },
          "colorway": [
           "#636efa",
           "#EF553B",
           "#00cc96",
           "#ab63fa",
           "#FFA15A",
           "#19d3f3",
           "#FF6692",
           "#B6E880",
           "#FF97FF",
           "#FECB52"
          ],
          "font": {
           "color": "#2a3f5f"
          },
          "geo": {
           "bgcolor": "white",
           "lakecolor": "white",
           "landcolor": "#E5ECF6",
           "showlakes": true,
           "showland": true,
           "subunitcolor": "white"
          },
          "hoverlabel": {
           "align": "left"
          },
          "hovermode": "closest",
          "mapbox": {
           "style": "light"
          },
          "paper_bgcolor": "white",
          "plot_bgcolor": "#E5ECF6",
          "polar": {
           "angularaxis": {
            "gridcolor": "white",
            "linecolor": "white",
            "ticks": ""
           },
           "bgcolor": "#E5ECF6",
           "radialaxis": {
            "gridcolor": "white",
            "linecolor": "white",
            "ticks": ""
           }
          },
          "scene": {
           "xaxis": {
            "backgroundcolor": "#E5ECF6",
            "gridcolor": "white",
            "gridwidth": 2,
            "linecolor": "white",
            "showbackground": true,
            "ticks": "",
            "zerolinecolor": "white"
           },
           "yaxis": {
            "backgroundcolor": "#E5ECF6",
            "gridcolor": "white",
            "gridwidth": 2,
            "linecolor": "white",
            "showbackground": true,
            "ticks": "",
            "zerolinecolor": "white"
           },
           "zaxis": {
            "backgroundcolor": "#E5ECF6",
            "gridcolor": "white",
            "gridwidth": 2,
            "linecolor": "white",
            "showbackground": true,
            "ticks": "",
            "zerolinecolor": "white"
           }
          },
          "shapedefaults": {
           "line": {
            "color": "#2a3f5f"
           }
          },
          "ternary": {
           "aaxis": {
            "gridcolor": "white",
            "linecolor": "white",
            "ticks": ""
           },
           "baxis": {
            "gridcolor": "white",
            "linecolor": "white",
            "ticks": ""
           },
           "bgcolor": "#E5ECF6",
           "caxis": {
            "gridcolor": "white",
            "linecolor": "white",
            "ticks": ""
           }
          },
          "title": {
           "x": 0.05
          },
          "xaxis": {
           "automargin": true,
           "gridcolor": "white",
           "linecolor": "white",
           "ticks": "",
           "title": {
            "standoff": 15
           },
           "zerolinecolor": "white",
           "zerolinewidth": 2
          },
          "yaxis": {
           "automargin": true,
           "gridcolor": "white",
           "linecolor": "white",
           "ticks": "",
           "title": {
            "standoff": 15
           },
           "zerolinecolor": "white",
           "zerolinewidth": 2
          }
         }
        },
        "title": {
         "text": "Динамика продаж"
        },
        "xaxis": {
         "anchor": "y",
         "domain": [
          0,
          1
         ],
         "title": {
          "text": "Order Date"
         }
        },
        "yaxis": {
         "anchor": "x",
         "domain": [
          0,
          1
         ],
         "title": {
          "text": "Sales"
         }
        }
       }
      }
     },
     "metadata": {},
     "output_type": "display_data"
    }
   ],
   "source": [
    "# 5. Динамика продаж во времени\n",
    "fig = px.line(df.groupby('Order Date')['Sales'].sum().reset_index(), x='Order Date', y='Sales', title='Динамика продаж')\n",
    "fig.show()"
   ]
  },
  {
   "cell_type": "code",
   "execution_count": 71,
   "id": "8c13cfe0",
   "metadata": {},
   "outputs": [
    {
     "data": {
      "application/vnd.plotly.v1+json": {
       "config": {
        "plotlyServerURL": "https://plot.ly"
       },
       "data": [
        {
         "hovertemplate": "Region=%{x}<br>Profit=%{marker.color}<extra></extra>",
         "legendgroup": "",
         "marker": {
          "color": {
           "bdata": "swxxrC0F8kDSAN4CfSD5QG+BBMWt0+ZAxf6ye6mi/EA=",
           "dtype": "f8"
          },
          "coloraxis": "coloraxis",
          "pattern": {
           "shape": ""
          }
         },
         "name": "",
         "orientation": "v",
         "showlegend": false,
         "textposition": "auto",
         "type": "bar",
         "x": [
          "Central",
          "East",
          "South",
          "West"
         ],
         "xaxis": "x",
         "y": {
          "bdata": "swxxrC0F8kDSAN4CfSD5QG+BBMWt0+ZAxf6ye6mi/EA=",
          "dtype": "f8"
         },
         "yaxis": "y"
        }
       ],
       "layout": {
        "barmode": "relative",
        "coloraxis": {
         "colorbar": {
          "title": {
           "text": "Profit"
          }
         },
         "colorscale": [
          [
           0,
           "#0d0887"
          ],
          [
           0.1111111111111111,
           "#46039f"
          ],
          [
           0.2222222222222222,
           "#7201a8"
          ],
          [
           0.3333333333333333,
           "#9c179e"
          ],
          [
           0.4444444444444444,
           "#bd3786"
          ],
          [
           0.5555555555555556,
           "#d8576b"
          ],
          [
           0.6666666666666666,
           "#ed7953"
          ],
          [
           0.7777777777777778,
           "#fb9f3a"
          ],
          [
           0.8888888888888888,
           "#fdca26"
          ],
          [
           1,
           "#f0f921"
          ]
         ]
        },
        "legend": {
         "tracegroupgap": 0
        },
        "template": {
         "data": {
          "bar": [
           {
            "error_x": {
             "color": "#2a3f5f"
            },
            "error_y": {
             "color": "#2a3f5f"
            },
            "marker": {
             "line": {
              "color": "#E5ECF6",
              "width": 0.5
             },
             "pattern": {
              "fillmode": "overlay",
              "size": 10,
              "solidity": 0.2
             }
            },
            "type": "bar"
           }
          ],
          "barpolar": [
           {
            "marker": {
             "line": {
              "color": "#E5ECF6",
              "width": 0.5
             },
             "pattern": {
              "fillmode": "overlay",
              "size": 10,
              "solidity": 0.2
             }
            },
            "type": "barpolar"
           }
          ],
          "carpet": [
           {
            "aaxis": {
             "endlinecolor": "#2a3f5f",
             "gridcolor": "white",
             "linecolor": "white",
             "minorgridcolor": "white",
             "startlinecolor": "#2a3f5f"
            },
            "baxis": {
             "endlinecolor": "#2a3f5f",
             "gridcolor": "white",
             "linecolor": "white",
             "minorgridcolor": "white",
             "startlinecolor": "#2a3f5f"
            },
            "type": "carpet"
           }
          ],
          "choropleth": [
           {
            "colorbar": {
             "outlinewidth": 0,
             "ticks": ""
            },
            "type": "choropleth"
           }
          ],
          "contour": [
           {
            "colorbar": {
             "outlinewidth": 0,
             "ticks": ""
            },
            "colorscale": [
             [
              0,
              "#0d0887"
             ],
             [
              0.1111111111111111,
              "#46039f"
             ],
             [
              0.2222222222222222,
              "#7201a8"
             ],
             [
              0.3333333333333333,
              "#9c179e"
             ],
             [
              0.4444444444444444,
              "#bd3786"
             ],
             [
              0.5555555555555556,
              "#d8576b"
             ],
             [
              0.6666666666666666,
              "#ed7953"
             ],
             [
              0.7777777777777778,
              "#fb9f3a"
             ],
             [
              0.8888888888888888,
              "#fdca26"
             ],
             [
              1,
              "#f0f921"
             ]
            ],
            "type": "contour"
           }
          ],
          "contourcarpet": [
           {
            "colorbar": {
             "outlinewidth": 0,
             "ticks": ""
            },
            "type": "contourcarpet"
           }
          ],
          "heatmap": [
           {
            "colorbar": {
             "outlinewidth": 0,
             "ticks": ""
            },
            "colorscale": [
             [
              0,
              "#0d0887"
             ],
             [
              0.1111111111111111,
              "#46039f"
             ],
             [
              0.2222222222222222,
              "#7201a8"
             ],
             [
              0.3333333333333333,
              "#9c179e"
             ],
             [
              0.4444444444444444,
              "#bd3786"
             ],
             [
              0.5555555555555556,
              "#d8576b"
             ],
             [
              0.6666666666666666,
              "#ed7953"
             ],
             [
              0.7777777777777778,
              "#fb9f3a"
             ],
             [
              0.8888888888888888,
              "#fdca26"
             ],
             [
              1,
              "#f0f921"
             ]
            ],
            "type": "heatmap"
           }
          ],
          "histogram": [
           {
            "marker": {
             "pattern": {
              "fillmode": "overlay",
              "size": 10,
              "solidity": 0.2
             }
            },
            "type": "histogram"
           }
          ],
          "histogram2d": [
           {
            "colorbar": {
             "outlinewidth": 0,
             "ticks": ""
            },
            "colorscale": [
             [
              0,
              "#0d0887"
             ],
             [
              0.1111111111111111,
              "#46039f"
             ],
             [
              0.2222222222222222,
              "#7201a8"
             ],
             [
              0.3333333333333333,
              "#9c179e"
             ],
             [
              0.4444444444444444,
              "#bd3786"
             ],
             [
              0.5555555555555556,
              "#d8576b"
             ],
             [
              0.6666666666666666,
              "#ed7953"
             ],
             [
              0.7777777777777778,
              "#fb9f3a"
             ],
             [
              0.8888888888888888,
              "#fdca26"
             ],
             [
              1,
              "#f0f921"
             ]
            ],
            "type": "histogram2d"
           }
          ],
          "histogram2dcontour": [
           {
            "colorbar": {
             "outlinewidth": 0,
             "ticks": ""
            },
            "colorscale": [
             [
              0,
              "#0d0887"
             ],
             [
              0.1111111111111111,
              "#46039f"
             ],
             [
              0.2222222222222222,
              "#7201a8"
             ],
             [
              0.3333333333333333,
              "#9c179e"
             ],
             [
              0.4444444444444444,
              "#bd3786"
             ],
             [
              0.5555555555555556,
              "#d8576b"
             ],
             [
              0.6666666666666666,
              "#ed7953"
             ],
             [
              0.7777777777777778,
              "#fb9f3a"
             ],
             [
              0.8888888888888888,
              "#fdca26"
             ],
             [
              1,
              "#f0f921"
             ]
            ],
            "type": "histogram2dcontour"
           }
          ],
          "mesh3d": [
           {
            "colorbar": {
             "outlinewidth": 0,
             "ticks": ""
            },
            "type": "mesh3d"
           }
          ],
          "parcoords": [
           {
            "line": {
             "colorbar": {
              "outlinewidth": 0,
              "ticks": ""
             }
            },
            "type": "parcoords"
           }
          ],
          "pie": [
           {
            "automargin": true,
            "type": "pie"
           }
          ],
          "scatter": [
           {
            "fillpattern": {
             "fillmode": "overlay",
             "size": 10,
             "solidity": 0.2
            },
            "type": "scatter"
           }
          ],
          "scatter3d": [
           {
            "line": {
             "colorbar": {
              "outlinewidth": 0,
              "ticks": ""
             }
            },
            "marker": {
             "colorbar": {
              "outlinewidth": 0,
              "ticks": ""
             }
            },
            "type": "scatter3d"
           }
          ],
          "scattercarpet": [
           {
            "marker": {
             "colorbar": {
              "outlinewidth": 0,
              "ticks": ""
             }
            },
            "type": "scattercarpet"
           }
          ],
          "scattergeo": [
           {
            "marker": {
             "colorbar": {
              "outlinewidth": 0,
              "ticks": ""
             }
            },
            "type": "scattergeo"
           }
          ],
          "scattergl": [
           {
            "marker": {
             "colorbar": {
              "outlinewidth": 0,
              "ticks": ""
             }
            },
            "type": "scattergl"
           }
          ],
          "scattermap": [
           {
            "marker": {
             "colorbar": {
              "outlinewidth": 0,
              "ticks": ""
             }
            },
            "type": "scattermap"
           }
          ],
          "scattermapbox": [
           {
            "marker": {
             "colorbar": {
              "outlinewidth": 0,
              "ticks": ""
             }
            },
            "type": "scattermapbox"
           }
          ],
          "scatterpolar": [
           {
            "marker": {
             "colorbar": {
              "outlinewidth": 0,
              "ticks": ""
             }
            },
            "type": "scatterpolar"
           }
          ],
          "scatterpolargl": [
           {
            "marker": {
             "colorbar": {
              "outlinewidth": 0,
              "ticks": ""
             }
            },
            "type": "scatterpolargl"
           }
          ],
          "scatterternary": [
           {
            "marker": {
             "colorbar": {
              "outlinewidth": 0,
              "ticks": ""
             }
            },
            "type": "scatterternary"
           }
          ],
          "surface": [
           {
            "colorbar": {
             "outlinewidth": 0,
             "ticks": ""
            },
            "colorscale": [
             [
              0,
              "#0d0887"
             ],
             [
              0.1111111111111111,
              "#46039f"
             ],
             [
              0.2222222222222222,
              "#7201a8"
             ],
             [
              0.3333333333333333,
              "#9c179e"
             ],
             [
              0.4444444444444444,
              "#bd3786"
             ],
             [
              0.5555555555555556,
              "#d8576b"
             ],
             [
              0.6666666666666666,
              "#ed7953"
             ],
             [
              0.7777777777777778,
              "#fb9f3a"
             ],
             [
              0.8888888888888888,
              "#fdca26"
             ],
             [
              1,
              "#f0f921"
             ]
            ],
            "type": "surface"
           }
          ],
          "table": [
           {
            "cells": {
             "fill": {
              "color": "#EBF0F8"
             },
             "line": {
              "color": "white"
             }
            },
            "header": {
             "fill": {
              "color": "#C8D4E3"
             },
             "line": {
              "color": "white"
             }
            },
            "type": "table"
           }
          ]
         },
         "layout": {
          "annotationdefaults": {
           "arrowcolor": "#2a3f5f",
           "arrowhead": 0,
           "arrowwidth": 1
          },
          "autotypenumbers": "strict",
          "coloraxis": {
           "colorbar": {
            "outlinewidth": 0,
            "ticks": ""
           }
          },
          "colorscale": {
           "diverging": [
            [
             0,
             "#8e0152"
            ],
            [
             0.1,
             "#c51b7d"
            ],
            [
             0.2,
             "#de77ae"
            ],
            [
             0.3,
             "#f1b6da"
            ],
            [
             0.4,
             "#fde0ef"
            ],
            [
             0.5,
             "#f7f7f7"
            ],
            [
             0.6,
             "#e6f5d0"
            ],
            [
             0.7,
             "#b8e186"
            ],
            [
             0.8,
             "#7fbc41"
            ],
            [
             0.9,
             "#4d9221"
            ],
            [
             1,
             "#276419"
            ]
           ],
           "sequential": [
            [
             0,
             "#0d0887"
            ],
            [
             0.1111111111111111,
             "#46039f"
            ],
            [
             0.2222222222222222,
             "#7201a8"
            ],
            [
             0.3333333333333333,
             "#9c179e"
            ],
            [
             0.4444444444444444,
             "#bd3786"
            ],
            [
             0.5555555555555556,
             "#d8576b"
            ],
            [
             0.6666666666666666,
             "#ed7953"
            ],
            [
             0.7777777777777778,
             "#fb9f3a"
            ],
            [
             0.8888888888888888,
             "#fdca26"
            ],
            [
             1,
             "#f0f921"
            ]
           ],
           "sequentialminus": [
            [
             0,
             "#0d0887"
            ],
            [
             0.1111111111111111,
             "#46039f"
            ],
            [
             0.2222222222222222,
             "#7201a8"
            ],
            [
             0.3333333333333333,
             "#9c179e"
            ],
            [
             0.4444444444444444,
             "#bd3786"
            ],
            [
             0.5555555555555556,
             "#d8576b"
            ],
            [
             0.6666666666666666,
             "#ed7953"
            ],
            [
             0.7777777777777778,
             "#fb9f3a"
            ],
            [
             0.8888888888888888,
             "#fdca26"
            ],
            [
             1,
             "#f0f921"
            ]
           ]
          },
          "colorway": [
           "#636efa",
           "#EF553B",
           "#00cc96",
           "#ab63fa",
           "#FFA15A",
           "#19d3f3",
           "#FF6692",
           "#B6E880",
           "#FF97FF",
           "#FECB52"
          ],
          "font": {
           "color": "#2a3f5f"
          },
          "geo": {
           "bgcolor": "white",
           "lakecolor": "white",
           "landcolor": "#E5ECF6",
           "showlakes": true,
           "showland": true,
           "subunitcolor": "white"
          },
          "hoverlabel": {
           "align": "left"
          },
          "hovermode": "closest",
          "mapbox": {
           "style": "light"
          },
          "paper_bgcolor": "white",
          "plot_bgcolor": "#E5ECF6",
          "polar": {
           "angularaxis": {
            "gridcolor": "white",
            "linecolor": "white",
            "ticks": ""
           },
           "bgcolor": "#E5ECF6",
           "radialaxis": {
            "gridcolor": "white",
            "linecolor": "white",
            "ticks": ""
           }
          },
          "scene": {
           "xaxis": {
            "backgroundcolor": "#E5ECF6",
            "gridcolor": "white",
            "gridwidth": 2,
            "linecolor": "white",
            "showbackground": true,
            "ticks": "",
            "zerolinecolor": "white"
           },
           "yaxis": {
            "backgroundcolor": "#E5ECF6",
            "gridcolor": "white",
            "gridwidth": 2,
            "linecolor": "white",
            "showbackground": true,
            "ticks": "",
            "zerolinecolor": "white"
           },
           "zaxis": {
            "backgroundcolor": "#E5ECF6",
            "gridcolor": "white",
            "gridwidth": 2,
            "linecolor": "white",
            "showbackground": true,
            "ticks": "",
            "zerolinecolor": "white"
           }
          },
          "shapedefaults": {
           "line": {
            "color": "#2a3f5f"
           }
          },
          "ternary": {
           "aaxis": {
            "gridcolor": "white",
            "linecolor": "white",
            "ticks": ""
           },
           "baxis": {
            "gridcolor": "white",
            "linecolor": "white",
            "ticks": ""
           },
           "bgcolor": "#E5ECF6",
           "caxis": {
            "gridcolor": "white",
            "linecolor": "white",
            "ticks": ""
           }
          },
          "title": {
           "x": 0.05
          },
          "xaxis": {
           "automargin": true,
           "gridcolor": "white",
           "linecolor": "white",
           "ticks": "",
           "title": {
            "standoff": 15
           },
           "zerolinecolor": "white",
           "zerolinewidth": 2
          },
          "yaxis": {
           "automargin": true,
           "gridcolor": "white",
           "linecolor": "white",
           "ticks": "",
           "title": {
            "standoff": 15
           },
           "zerolinecolor": "white",
           "zerolinewidth": 2
          }
         }
        },
        "title": {
         "text": "Прибыль по регионам"
        },
        "xaxis": {
         "anchor": "y",
         "domain": [
          0,
          1
         ],
         "title": {
          "text": "Region"
         }
        },
        "yaxis": {
         "anchor": "x",
         "domain": [
          0,
          1
         ],
         "title": {
          "text": "Profit"
         }
        }
       }
      }
     },
     "metadata": {},
     "output_type": "display_data"
    }
   ],
   "source": [
    "# 6. Прибыль по регионам\n",
    "fig = px.bar(df.groupby('Region')['Profit'].sum().reset_index(), x='Region', y='Profit', title='Прибыль по регионам', color='Profit')\n",
    "fig.show()\n"
   ]
  },
  {
   "cell_type": "code",
   "execution_count": 72,
   "id": "a58cd271",
   "metadata": {},
   "outputs": [],
   "source": [
    "from sklearn.cluster import KMeans\n",
    "from sklearn.preprocessing import StandardScaler\n",
    "\n",
    "# Агрегация данных по клиентам\n",
    "customer_df = df.groupby('Customer ID').agg({\n",
    "    'Order Date': lambda x: (df['Order Date'].max() - x.max()).days,  # Recency: дни с последней покупки\n",
    "    'Order ID': 'nunique',  # Frequency: количество уникальных заказов\n",
    "    'Sales': 'sum'  # Monetary: общая сумма покупок\n",
    "}).reset_index()\n",
    "\n",
    "customer_df.columns = ['Customer ID', 'Recency', 'Frequency', 'Monetary']\n",
    "\n",
    "# Нормализация данных\n",
    "scaler = StandardScaler()\n",
    "customer_scaled = scaler.fit_transform(customer_df[['Recency', 'Frequency', 'Monetary']])"
   ]
  },
  {
   "cell_type": "code",
   "execution_count": 83,
   "id": "7ae1fbba",
   "metadata": {},
   "outputs": [
    {
     "data": {
      "image/png": "[encoded data removed]",
      "text/plain": [
       "<Figure size 800x500 with 1 Axes>"
      ]
     },
     "metadata": {},
     "output_type": "display_data"
    }
   ],
   "source": [
    "# Метод локтя для определения оптимального количества кластеров\n",
    "wcss = []\n",
    "k_values = range(1, 11)\n",
    "\n",
    "for k in k_values:\n",
    "    kmeans = KMeans(n_clusters=k, random_state=42, n_init=10)\n",
    "    kmeans.fit(customer_scaled)\n",
    "    wcss.append(kmeans.inertia_)\n",
    "\n",
    "# График метода локтя\n",
    "plt.figure(figsize=(8, 5))\n",
    "plt.plot(k_values, wcss, marker='o', linestyle='-')\n",
    "plt.xlabel('Number of clusters')\n",
    "plt.ylabel('WCSS (within-cluster sum of squares)')\n",
    "plt.title('Elbow method for choosing optimal k')\n",
    "plt.show()"
   ]
  },
  {
   "cell_type": "code",
   "execution_count": 84,
   "id": "c37ffdd6",
   "metadata": {},
   "outputs": [
    {
     "data": {
      "image/png": "[encoded data removed]",
      "text/plain": [
       "<Figure size 800x500 with 1 Axes>"
      ]
     },
     "metadata": {},
     "output_type": "display_data"
    }
   ],
   "source": [
    "# Кластеризация K-Means\n",
    "kmeans = KMeans(n_clusters=4, random_state=42)\n",
    "customer_df['Segment'] = kmeans.fit_predict(customer_scaled)\n",
    "\n",
    "# Визуализация сегментов\n",
    "plt.figure(figsize=(8, 5))\n",
    "sns.scatterplot(x=customer_df['Frequency'], y=customer_df['Monetary'], hue=customer_df['Segment'], palette='viridis')\n",
    "plt.title('Customer segmentation')\n",
    "plt.show()\n",
    "\n",
    "# Сохранение сегментированных данных\n",
    "customer_df.to_csv('data/Customer_Segments.csv', index=False)"
   ]
  },
  {
   "cell_type": "code",
   "execution_count": 75,
   "id": "b8a82ca9",
   "metadata": {},
   "outputs": [
    {
     "name": "stdout",
     "output_type": "stream",
     "text": [
      "            Recency  Frequency     Monetary\n",
      "Segment                                    \n",
      "0        101.825000   8.150000  8721.327745\n",
      "1        103.945619   4.586103  1680.460909\n",
      "2        564.530612   3.642857  1484.077874\n",
      "3         72.528169   8.380282  3041.882448\n"
     ]
    }
   ],
   "source": [
    "print(customer_df.drop(['Customer ID'], axis=1).groupby('Segment').mean())"
   ]
  },
  {
   "cell_type": "code",
   "execution_count": 76,
   "id": "85cd5866",
   "metadata": {},
   "outputs": [
    {
     "name": "stderr",
     "output_type": "stream",
     "text": [
      "C:\\Users\\User\\AppData\\Local\\Temp\\ipykernel_8808\\99345772.py:2: FutureWarning:\n",
      "\n",
      "\n",
      "\n",
      "Passing `palette` without assigning `hue` is deprecated and will be removed in v0.14.0. Assign the `x` variable to `hue` and set `legend=False` for the same effect.\n",
      "\n",
      "\n"
     ]
    },
    {
     "data": {
      "image/png": "[encoded data removed]",
      "text/plain": [
       "<Figure size 800x500 with 1 Axes>"
      ]
     },
     "metadata": {},
     "output_type": "display_data"
    }
   ],
   "source": [
    "plt.figure(figsize=(8,5))\n",
    "sns.boxplot(x='Segment', y='Monetary', data=customer_df, palette='viridis')\n",
    "plt.xlabel('Сегмент')\n",
    "plt.ylabel('Прибыль')\n",
    "plt.title('Распределение прибыли по сегментам')\n",
    "plt.show()"
   ]
  },
  {
   "cell_type": "code",
   "execution_count": 77,
   "id": "a95a4613",
   "metadata": {},
   "outputs": [
    {
     "data": {
      "image/png": "[encoded data removed]",
      "text/plain": [
       "<Figure size 823.486x750 with 12 Axes>"
      ]
     },
     "metadata": {},
     "output_type": "display_data"
    }
   ],
   "source": [
    "sns.pairplot(customer_df, hue='Segment', palette='viridis')\n",
    "plt.show()"
   ]
  },
  {
   "cell_type": "code",
   "execution_count": 78,
   "id": "42936d5c",
   "metadata": {},
   "outputs": [
    {
     "name": "stderr",
     "output_type": "stream",
     "text": [
      "C:\\Users\\User\\AppData\\Local\\Temp\\ipykernel_8808\\1909413271.py:1: FutureWarning:\n",
      "\n",
      "\n",
      "\n",
      "Passing `palette` without assigning `hue` is deprecated and will be removed in v0.14.0. Assign the `x` variable to `hue` and set `legend=False` for the same effect.\n",
      "\n",
      "\n"
     ]
    },
    {
     "data": {
      "image/png": "[encoded data removed]",
      "text/plain": [
       "<Figure size 640x480 with 1 Axes>"
      ]
     },
     "metadata": {},
     "output_type": "display_data"
    }
   ],
   "source": [
    "sns.countplot(x='Segment', data=customer_df, palette='viridis')\n",
    "plt.xlabel('Сегмент')\n",
    "plt.ylabel('Количество клиентов')\n",
    "plt.title('Распределение клиентов по сегментам')\n",
    "plt.show()\n"
   ]
  }
 ],
 "metadata": {
  "kernelspec": {
   "display_name": "Python 3",
   "language": "python",
   "name": "python3"
  },
  "language_info": {
   "codemirror_mode": {
    "name": "ipython",
    "version": 3
   },
   "file_extension": ".py",
   "mimetype": "text/x-python",
   "name": "python",
   "nbconvert_exporter": "python",
   "pygments_lexer": "ipython3",
   "version": "3.13.2"
  }
 },
 "nbformat": 4,
 "nbformat_minor": 5
}
